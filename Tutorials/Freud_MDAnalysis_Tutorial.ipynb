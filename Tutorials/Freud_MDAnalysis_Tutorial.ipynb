{
 "cells": [
  {
   "cell_type": "markdown",
   "metadata": {},
   "source": [
    "# Practice with `freud`, `mdtraj` and `MDanalysis` Packages\n",
    "\n",
    "Here is a short tutorial for the usage of [Freud](https://freud.readthedocs.io/en/stable), [mdtraj](https://mdtraj.org/), and [MD Analysis](https://docs.mdanalysis.org/1.0.0/index.html) packages, mainly for the use cases I'm interested in. These are Python packages that are extremely useful for analysis of GROMACS simulations (and other molecular dynamics software). They are easy to install from the Conda terminal with:\n",
    "\n",
    "```\n",
    "conda config --add channels conda-forge\n",
    "conda update --all\n",
    "conda install -c conda-forge freud\n",
    "conda install -c conda-forge mdtraj\n",
    "conda install mdanalysis\n",
    "```\n",
    "\n",
    "# `MDanalysis` package\n",
    "First, import the packages, plus the `glob` package for testing purposes. We'll begin by looking at the MD Analysis library and looking at its capabilities"
   ]
  },
  {
   "cell_type": "code",
   "execution_count": 1,
   "metadata": {},
   "outputs": [],
   "source": [
    "import MDAnalysis, freud, glob\n",
    "import numpy as np\n",
    "import array as arr\n",
    "import matplotlib.pyplot as plt\n",
    "from scipy.ndimage import gaussian_filter1d\n",
    "from scipy.signal import argrelextrema"
   ]
  },
  {
   "cell_type": "code",
   "execution_count": 2,
   "metadata": {},
   "outputs": [],
   "source": [
    "# user inputs\n",
    "TimePerFrame = 1 # 10 ps per frame to check\n",
    "Start_Points = arr.array('d',[29900]) # start points\n",
    "End_Points = arr.array('d',[30000]) # end point\n",
    "idx=0\n",
    "Min_R = 0;\n",
    "ref = 'Li'\n",
    "sel = 'I'\n",
    "Metal = 'Li'\n",
    "Halide = 'I'"
   ]
  },
  {
   "cell_type": "code",
   "execution_count": 3,
   "metadata": {},
   "outputs": [
    {
     "name": "stderr",
     "output_type": "stream",
     "text": [
      "C:\\ProgramData\\Anaconda3\\lib\\site-packages\\MDAnalysis\\topology\\guessers.py:80: UserWarning: Failed to guess the mass for the following atom types: LI\n",
      "  warnings.warn(\"Failed to guess the mass for the following atom types: {}\".format(atom_type))\n"
     ]
    }
   ],
   "source": [
    "# Define your testing directory containing the results of a GROMACS simulation\n",
    "testdir = 'C:\\\\Users\\\\Hayden\\\\Documents\\\\Patey_Lab\\\\Results\\\\LiI\\\\Step_W_JC_NPT\\\\'\n",
    "\n",
    "# Use glob to grab your initial gro or pdb file (called a topology file by MD Analysis)\n",
    "topology = glob.glob(testdir + '*.gro')[0]\n",
    "trajectory = glob.glob(testdir + '*.trr')[0] # this can be a trr or xtc file\n",
    "\n",
    "# Use the Universe method to creates a \"universe\" to contain your trajectory\n",
    "t = MDAnalysis.Universe(topology, trajectory)"
   ]
  },
  {
   "cell_type": "code",
   "execution_count": 4,
   "metadata": {},
   "outputs": [
    {
     "data": {
      "text/plain": [
       "array([   0,    1,    4, ..., 5317, 5320, 5321], dtype=int64)"
      ]
     },
     "execution_count": 4,
     "metadata": {},
     "output_type": "execute_result"
    }
   ],
   "source": [
    "t.select_atoms(\"name LI\").indices"
   ]
  },
  {
   "cell_type": "code",
   "execution_count": 5,
   "metadata": {},
   "outputs": [],
   "source": [
    "timestep = t.trajectory.dt # timestep in ps\n",
    "steps_per_frame = int(TimePerFrame/timestep)"
   ]
  },
  {
   "cell_type": "code",
   "execution_count": 6,
   "metadata": {},
   "outputs": [],
   "source": [
    "Mgroup = t.select_atoms('name Li').indices\n",
    "Xgroup = t.select_atoms('name I').indices"
   ]
  },
  {
   "cell_type": "code",
   "execution_count": 7,
   "metadata": {},
   "outputs": [],
   "source": [
    "min_time = t.trajectory[0].time # first time step in ps\n",
    "max_time = t.trajectory[-1].time # last time step in ps"
   ]
  },
  {
   "cell_type": "code",
   "execution_count": 8,
   "metadata": {},
   "outputs": [],
   "source": [
    "Start_Point = np.max([Start_Points[idx],min_time]) # ps\n",
    "End_Point = np.min([End_Points[idx],max_time]) # ps"
   ]
  },
  {
   "cell_type": "code",
   "execution_count": 9,
   "metadata": {},
   "outputs": [],
   "source": [
    "Start_Step = int(Start_Point/timestep) # index of the start point within trajectory\n",
    "End_Step = int(End_Point/timestep) # index of the end point within trajectory\n",
    "time_slice = list(range(Start_Step, End_Step+steps_per_frame, steps_per_frame))"
   ]
  },
  {
   "cell_type": "code",
   "execution_count": 10,
   "metadata": {},
   "outputs": [],
   "source": [
    "def to_freud_box(dims):\n",
    "    a = dims[0]/10\n",
    "    b = dims[1]/10\n",
    "    c = dims[2]/10\n",
    "    alpha = np.deg2rad(dims[3])\n",
    "    beta = np.deg2rad(dims[4])\n",
    "    gamma = np.deg2rad(dims[5])\n",
    "\n",
    "    Omega = a*b*c*np.sqrt(1 - (np.cos(alpha)**2) - (np.cos(beta)**2) - (np.cos(gamma)**2) + 2*np.cos(alpha)*np.cos(beta)*np.cos(gamma))\n",
    "    cx = c*np.cos(beta)\n",
    "    cy = c*(np.cos(alpha) - np.cos(beta)*np.cos(gamma))/np.sin(gamma)\n",
    "    cz = Omega/(a*b*np.sin(gamma))\n",
    "\n",
    "    Transform_Matrix = [[a,             b*np.cos(gamma),      cx],\n",
    "                        [0,             b*np.sin(gamma),      cy],\n",
    "                        [0,             0,                    cz]]\n",
    "    \n",
    "    return freud.box.Box.from_matrix(Transform_Matrix)"
   ]
  },
  {
   "cell_type": "code",
   "execution_count": 12,
   "metadata": {},
   "outputs": [
    {
     "data": {
      "text/plain": [
       "[<matplotlib.lines.Line2D at 0x19913dd95c8>]"
      ]
     },
     "execution_count": 12,
     "metadata": {},
     "output_type": "execute_result"
    },
    {
     "data": {
      "image/png": "[encoded data removed]",
      "text/plain": [
       "<Figure size 864x576 with 1 Axes>"
      ]
     },
     "metadata": {
      "needs_background": "light"
     },
     "output_type": "display_data"
    }
   ],
   "source": [
    "rdf = freud.density.RDF(200, 0.7)\n",
    "for ts in t.trajectory[time_slice]:\n",
    "    \n",
    "    #print(\"Frame: {0:5d}, Time: {1:8.3f} ps\".format(ts.frame, u.trajectory.time))\n",
    "    box_data = to_freud_box(t.atoms.dimensions)\n",
    "    pos_data = t.atoms.positions/10\n",
    "    rdf.compute(system=(box_data, pos_data), reset=False)\n",
    "    \n",
    "rdf_x = rdf.bin_centers\n",
    "rdf_y = getattr(rdf, 'rdf')\n",
    "\n",
    "fig, ax = plt.subplots(1, 1, figsize=(12, 8))\n",
    "ax.set_title('Freud RDF', fontsize=16)\n",
    "ax.plot(rdf_x, rdf_y, label='RDF')"
   ]
  },
  {
   "cell_type": "code",
   "execution_count": 94,
   "metadata": {},
   "outputs": [],
   "source": [
    "query_args = dict(mode='ball', r_min=0, r_max=0.345, exclude_ii=True)\n",
    "Ql_result_TimeWindow = []\n",
    "L_list = [2,4,6,8,10]\n",
    "ref = 'Li'\n",
    "sel = 'I'\n",
    "for ts in t.trajectory[time_slice]:\n",
    "    box_data = to_freud_box(t.atoms.dimensions)\n",
    "    \n",
    "    query_data = t.atoms.positions/10 # in nm\n",
    "    if ref == Metal:\n",
    "        query_data[t.select_atoms(\"name \" + Halide).indices] = np.nan\n",
    "    elif ref == Halide:\n",
    "        query_data[t.select_atoms(\"name \" + Metal).indices] = np.nan\n",
    "\n",
    "    point_data = t.atoms.positions/10 # in nm\n",
    "    if sel == Metal:\n",
    "        point_data[t.select_atoms(\"name \" + Halide).indices] = np.nan\n",
    "    elif sel == Halide:\n",
    "        point_data[t.select_atoms(\"name \" + Metal).indices] = np.nan\n",
    "    \n",
    "    nlist = freud.locality.AABBQuery(box_data, point_data).query(query_data, query_args).toNeighborList()\n",
    "    \n",
    "    system = [box_data,t.atoms.positions/10] # in nm\n",
    "    Ql_result = []\n",
    "    for L_idx,L in enumerate(L_list):\n",
    "\n",
    "        ql = freud.order.Steinhardt(L)\n",
    "        ql_calc = ql.compute(system, neighbors=nlist)\n",
    "\n",
    "        Ql_result.append(ql_calc.ql)\n",
    "\n",
    "    Ql_result_TimeWindow.append(Ql_result)"
   ]
  },
  {
   "cell_type": "code",
   "execution_count": 96,
   "metadata": {},
   "outputs": [
    {
     "data": {
      "text/plain": [
       "[[array([0.50250506, 0.4971732 ,        nan, ..., 0.49804145,        nan,\n",
       "                nan], dtype=float32),\n",
       "  array([0.38869458, 0.39335227,        nan, ..., 0.44217184,        nan,\n",
       "                nan], dtype=float32),\n",
       "  array([0.72089237, 0.7248564 ,        nan, ..., 0.66047955,        nan,\n",
       "                nan], dtype=float32),\n",
       "  array([0.5502479 , 0.54052925,        nan, ..., 0.5898071 ,        nan,\n",
       "                nan], dtype=float32),\n",
       "  array([0.48897156, 0.4910056 ,        nan, ..., 0.5478852 ,        nan,\n",
       "                nan], dtype=float32)],\n",
       " [array([0.52937883, 0.56358355,        nan, ..., 0.4828897 ,        nan,\n",
       "                nan], dtype=float32),\n",
       "  array([0.57135737, 0.78808254,        nan, ..., 0.4566574 ,        nan,\n",
       "                nan], dtype=float32),\n",
       "  array([0.5407504 , 0.55472666,        nan, ..., 0.66275615,        nan,\n",
       "                nan], dtype=float32),\n",
       "  array([0.47066295, 0.6364019 ,        nan, ..., 0.5849884 ,        nan,\n",
       "                nan], dtype=float32),\n",
       "  array([0.698297  , 0.49155456,        nan, ..., 0.5388445 ,        nan,\n",
       "                nan], dtype=float32)],\n",
       " [array([0.27297515, 0.5724744 ,        nan, ..., 0.54795015,        nan,\n",
       "                nan], dtype=float32),\n",
       "  array([0.47748086, 0.778579  ,        nan, ..., 0.47602797,        nan,\n",
       "                nan], dtype=float32),\n",
       "  array([0.5050696, 0.5857384,       nan, ..., 0.505    ,       nan,\n",
       "               nan], dtype=float32),\n",
       "  array([0.56282365, 0.6180904 ,        nan, ..., 0.7243948 ,        nan,\n",
       "                nan], dtype=float32),\n",
       "  array([0.4180646 , 0.52709556,        nan, ..., 0.520434  ,        nan,\n",
       "                nan], dtype=float32)],\n",
       " [array([0.9538924 , 0.56024194,        nan, ..., 0.4828496 ,        nan,\n",
       "                nan], dtype=float32),\n",
       "  array([0.8551404 , 0.5165288 ,        nan, ..., 0.47581053,        nan,\n",
       "                nan], dtype=float32),\n",
       "  array([0.72615546, 0.4924288 ,        nan, ..., 0.62144077,        nan,\n",
       "                nan], dtype=float32),\n",
       "  array([0.60570866, 0.65374756,        nan, ..., 0.6480698 ,        nan,\n",
       "                nan], dtype=float32),\n",
       "  array([0.54574275, 0.54793036,        nan, ..., 0.4757398 ,        nan,\n",
       "                nan], dtype=float32)],\n",
       " [array([0.5611816, 0.5116902,       nan, ..., 0.8782041,       nan,\n",
       "               nan], dtype=float32),\n",
       "  array([0.71637565, 0.55271494,        nan, ..., 0.6640636 ,        nan,\n",
       "                nan], dtype=float32),\n",
       "  array([0.53089195, 0.5467996 ,        nan, ..., 0.54110277,        nan,\n",
       "                nan], dtype=float32),\n",
       "  array([0.5005671, 0.5205621,       nan, ..., 0.6360904,       nan,\n",
       "               nan], dtype=float32),\n",
       "  array([0.5181349 , 0.69331986,        nan, ..., 0.77276   ,        nan,\n",
       "                nan], dtype=float32)],\n",
       " [array([0.46753323, 0.4665744 ,        nan, ..., 0.64121866,        nan,\n",
       "                nan], dtype=float32),\n",
       "  array([0.5008017 , 0.43170053,        nan, ..., 0.62096906,        nan,\n",
       "                nan], dtype=float32),\n",
       "  array([0.61685765, 0.7311742 ,        nan, ..., 0.8160441 ,        nan,\n",
       "                nan], dtype=float32),\n",
       "  array([0.6174595 , 0.48862404,        nan, ..., 0.6458183 ,        nan,\n",
       "                nan], dtype=float32),\n",
       "  array([0.5307772 , 0.5382571 ,        nan, ..., 0.67423505,        nan,\n",
       "                nan], dtype=float32)],\n",
       " [array([0.23517855, 0.40721905,        nan, ..., 0.8084845 ,        nan,\n",
       "                nan], dtype=float32),\n",
       "  array([0.69268954, 0.6053423 ,        nan, ..., 0.5585721 ,        nan,\n",
       "                nan], dtype=float32),\n",
       "  array([0.35438305, 0.5006102 ,        nan, ..., 0.61947864,        nan,\n",
       "                nan], dtype=float32),\n",
       "  array([0.5137663, 0.6653519,       nan, ..., 0.7893675,       nan,\n",
       "               nan], dtype=float32),\n",
       "  array([0.43149227, 0.5588353 ,        nan, ..., 0.77956355,        nan,\n",
       "                nan], dtype=float32)],\n",
       " [array([0.51644796, 0.30450785,        nan, ..., 0.92866623,        nan,\n",
       "                nan], dtype=float32),\n",
       "  array([0.4849099 , 0.52950466,        nan, ..., 0.7842271 ,        nan,\n",
       "                nan], dtype=float32),\n",
       "  array([0.61064214, 0.39107588,        nan, ..., 0.6244003 ,        nan,\n",
       "                nan], dtype=float32),\n",
       "  array([0.54193294, 0.58646685,        nan, ..., 0.54383093,        nan,\n",
       "                nan], dtype=float32),\n",
       "  array([0.6592124 , 0.45962206,        nan, ..., 0.5966857 ,        nan,\n",
       "                nan], dtype=float32)],\n",
       " [array([0.5202321 , 0.57272774,        nan, ..., 0.31072167,        nan,\n",
       "                nan], dtype=float32),\n",
       "  array([0.4528465 , 0.66274303,        nan, ..., 0.5681358 ,        nan,\n",
       "                nan], dtype=float32),\n",
       "  array([0.5936799 , 0.53133   ,        nan, ..., 0.38751158,        nan,\n",
       "                nan], dtype=float32),\n",
       "  array([0.6730295 , 0.49581617,        nan, ..., 0.5248069 ,        nan,\n",
       "                nan], dtype=float32),\n",
       "  array([0.5166572 , 0.48023692,        nan, ..., 0.48059914,        nan,\n",
       "                nan], dtype=float32)],\n",
       " [array([0.5203784, 0.5526298,       nan, ..., 0.9481552,       nan,\n",
       "               nan], dtype=float32),\n",
       "  array([0.5779719, 0.6917357,       nan, ..., 0.8384506,       nan,\n",
       "               nan], dtype=float32),\n",
       "  array([0.5179585 , 0.5060096 ,        nan, ..., 0.69970405,        nan,\n",
       "                nan], dtype=float32),\n",
       "  array([0.5198236 , 0.48372775,        nan, ..., 0.5818648 ,        nan,\n",
       "                nan], dtype=float32),\n",
       "  array([0.66776174, 0.53936243,        nan, ..., 0.5454941 ,        nan,\n",
       "                nan], dtype=float32)],\n",
       " [array([0.484911  , 0.50096977,        nan, ..., 0.6715637 ,        nan,\n",
       "                nan], dtype=float32),\n",
       "  array([0.5090632, 0.8276936,       nan, ..., 0.5849077,       nan,\n",
       "               nan], dtype=float32),\n",
       "  array([0.5963128, 0.5898985,       nan, ..., 0.8093586,       nan,\n",
       "               nan], dtype=float32),\n",
       "  array([0.58930063, 0.79397315,        nan, ..., 0.6988787 ,        nan,\n",
       "                nan], dtype=float32),\n",
       "  array([0.6133215, 0.6209788,       nan, ..., 0.6224901,       nan,\n",
       "               nan], dtype=float32)],\n",
       " [array([0.43652537, 0.32610327,        nan, ..., 0.36621398,        nan,\n",
       "                nan], dtype=float32),\n",
       "  array([0.53738093, 0.6372748 ,        nan, ..., 0.6119446 ,        nan,\n",
       "                nan], dtype=float32),\n",
       "  array([0.60739017, 0.52851284,        nan, ..., 0.3750454 ,        nan,\n",
       "                nan], dtype=float32),\n",
       "  array([0.5898849, 0.659736 ,       nan, ..., 0.5399279,       nan,\n",
       "               nan], dtype=float32),\n",
       "  array([0.5866505, 0.4597081,       nan, ..., 0.4107064,       nan,\n",
       "               nan], dtype=float32)],\n",
       " [array([0.58608395, 0.34683865,        nan, ..., 0.28900033,        nan,\n",
       "                nan], dtype=float32),\n",
       "  array([0.7636003 , 0.46730757,        nan, ..., 0.64230126,        nan,\n",
       "                nan], dtype=float32),\n",
       "  array([0.6295551, 0.4387048,       nan, ..., 0.584345 ,       nan,\n",
       "               nan], dtype=float32),\n",
       "  array([0.59134555, 0.6053182 ,        nan, ..., 0.5552344 ,        nan,\n",
       "                nan], dtype=float32),\n",
       "  array([0.57702696, 0.44946185,        nan, ..., 0.5762127 ,        nan,\n",
       "                nan], dtype=float32)],\n",
       " [array([0.5152789 , 0.90511036,        nan, ..., 0.5212685 ,        nan,\n",
       "                nan], dtype=float32),\n",
       "  array([0.4368673 , 0.72422594,        nan, ..., 0.46197373,        nan,\n",
       "                nan], dtype=float32),\n",
       "  array([0.6485801 , 0.56547296,        nan, ..., 0.5768506 ,        nan,\n",
       "                nan], dtype=float32),\n",
       "  array([0.58544713, 0.5669822 ,        nan, ..., 0.6855406 ,        nan,\n",
       "                nan], dtype=float32),\n",
       "  array([0.58036256, 0.6908352 ,        nan, ..., 0.50835884,        nan,\n",
       "                nan], dtype=float32)],\n",
       " [array([0.24030216, 0.52056694,        nan, ..., 0.48314518,        nan,\n",
       "                nan], dtype=float32),\n",
       "  array([0.59475404, 0.5526108 ,        nan, ..., 0.4353993 ,        nan,\n",
       "                nan], dtype=float32),\n",
       "  array([0.3663386 , 0.51581126,        nan, ..., 0.69447505,        nan,\n",
       "                nan], dtype=float32),\n",
       "  array([0.5364597, 0.5920632,       nan, ..., 0.553044 ,       nan,\n",
       "               nan], dtype=float32),\n",
       "  array([0.4668055 , 0.5998696 ,        nan, ..., 0.53395057,        nan,\n",
       "                nan], dtype=float32)],\n",
       " [array([0.7333883 , 0.41046965,        nan, ..., 0.5459907 ,        nan,\n",
       "                nan], dtype=float32),\n",
       "  array([0.5386064, 0.5320125,       nan, ..., 0.5088325,       nan,\n",
       "               nan], dtype=float32),\n",
       "  array([0.74912137, 0.649703  ,        nan, ..., 0.5247445 ,        nan,\n",
       "                nan], dtype=float32),\n",
       "  array([0.7924262 , 0.57167745,        nan, ..., 0.63241416,        nan,\n",
       "                nan], dtype=float32),\n",
       "  array([0.63057476, 0.50408703,        nan, ..., 0.573027  ,        nan,\n",
       "                nan], dtype=float32)],\n",
       " [array([0.55066633, 0.99999994,        nan, ..., 0.2723149 ,        nan,\n",
       "                nan], dtype=float32),\n",
       "  array([0.6726938, 0.9999999,       nan, ..., 0.6485229,       nan,\n",
       "               nan], dtype=float32),\n",
       "  array([0.5150808, 1.       ,       nan, ..., 0.596526 ,       nan,\n",
       "               nan], dtype=float32),\n",
       "  array([0.44554803, 1.        ,        nan, ..., 0.5084866 ,        nan,\n",
       "                nan], dtype=float32),\n",
       "  array([0.5979143 , 1.        ,        nan, ..., 0.63785845,        nan,\n",
       "                nan], dtype=float32)],\n",
       " [array([0.5115806 , 0.53150135,        nan, ..., 0.8628231 ,        nan,\n",
       "                nan], dtype=float32),\n",
       "  array([0.81163216, 0.5429683 ,        nan, ..., 0.6341548 ,        nan,\n",
       "                nan], dtype=float32),\n",
       "  array([0.6266003, 0.5249108,       nan, ..., 0.544978 ,       nan,\n",
       "               nan], dtype=float32),\n",
       "  array([0.75250745, 0.58092374,        nan, ..., 0.6789901 ,        nan,\n",
       "                nan], dtype=float32),\n",
       "  array([0.68484193, 0.6058444 ,        nan, ..., 0.79872394,        nan,\n",
       "                nan], dtype=float32)],\n",
       " [array([0.55888885, 0.30538374,        nan, ..., 0.26728287,        nan,\n",
       "                nan], dtype=float32),\n",
       "  array([0.73941153, 0.48137194,        nan, ..., 0.63503385,        nan,\n",
       "                nan], dtype=float32),\n",
       "  array([0.74341327, 0.45579132,        nan, ..., 0.40306464,        nan,\n",
       "                nan], dtype=float32),\n",
       "  array([0.62358934, 0.5989747 ,        nan, ..., 0.46107444,        nan,\n",
       "                nan], dtype=float32),\n",
       "  array([0.79086   , 0.43476725,        nan, ..., 0.4669528 ,        nan,\n",
       "                nan], dtype=float32)],\n",
       " [array([0.8893848 , 0.23850335,        nan, ..., 0.61745614,        nan,\n",
       "                nan], dtype=float32),\n",
       "  array([0.68790466, 0.46133354,        nan, ..., 0.65296566,        nan,\n",
       "                nan], dtype=float32),\n",
       "  array([0.5459767, 0.5782112,       nan, ..., 0.80944  ,       nan,\n",
       "               nan], dtype=float32),\n",
       "  array([0.6050449, 0.4625757,       nan, ..., 0.613616 ,       nan,\n",
       "               nan], dtype=float32),\n",
       "  array([0.74404013, 0.5120485 ,        nan, ..., 0.7228288 ,        nan,\n",
       "                nan], dtype=float32)],\n",
       " [array([0.9568167 , 0.3685023 ,        nan, ..., 0.48064512,        nan,\n",
       "                nan], dtype=float32),\n",
       "  array([0.86376846, 0.4911446 ,        nan, ..., 0.53653866,        nan,\n",
       "                nan], dtype=float32),\n",
       "  array([0.7403473 , 0.37142763,        nan, ..., 0.57202554,        nan,\n",
       "                nan], dtype=float32),\n",
       "  array([0.6201677, 0.6163805,       nan, ..., 0.566106 ,       nan,\n",
       "               nan], dtype=float32),\n",
       "  array([0.54990953, 0.46479923,        nan, ..., 0.66625357,        nan,\n",
       "                nan], dtype=float32)],\n",
       " [array([0.65996456, 0.5581654 ,        nan, ..., 0.99999994,        nan,\n",
       "                nan], dtype=float32),\n",
       "  array([0.5979227, 0.7405137,       nan, ..., 0.9999999,       nan,\n",
       "               nan], dtype=float32),\n",
       "  array([0.81384057, 0.74210536,        nan, ..., 0.99999994,        nan,\n",
       "                nan], dtype=float32),\n",
       "  array([0.67793113, 0.62475765,        nan, ..., 0.99999994,        nan,\n",
       "                nan], dtype=float32),\n",
       "  array([0.6394859 , 0.7907107 ,        nan, ..., 0.99999994,        nan,\n",
       "                nan], dtype=float32)],\n",
       " [array([0.5720574 , 0.6083591 ,        nan, ..., 0.23664474,        nan,\n",
       "                nan], dtype=float32),\n",
       "  array([0.7194325, 0.7160691,       nan, ..., 0.6758994,       nan,\n",
       "               nan], dtype=float32),\n",
       "  array([0.76496655, 0.6873738 ,        nan, ..., 0.5597968 ,        nan,\n",
       "                nan], dtype=float32),\n",
       "  array([0.60705125, 0.49014202,        nan, ..., 0.53822505,        nan,\n",
       "                nan], dtype=float32),\n",
       "  array([0.7880621 , 0.63081706,        nan, ..., 0.6341578 ,        nan,\n",
       "                nan], dtype=float32)],\n",
       " [array([0.44357455, 0.9673726 ,        nan, ..., 0.5139393 ,        nan,\n",
       "                nan], dtype=float32),\n",
       "  array([0.56270164, 0.8955758 ,        nan, ..., 0.80804867,        nan,\n",
       "                nan], dtype=float32),\n",
       "  array([0.41177988, 0.79540586,        nan, ..., 0.6341429 ,        nan,\n",
       "                nan], dtype=float32),\n",
       "  array([0.34094638, 0.6851217 ,        nan, ..., 0.74382067,        nan,\n",
       "                nan], dtype=float32),\n",
       "  array([0.59957415, 0.59169716,        nan, ..., 0.6962822 ,        nan,\n",
       "                nan], dtype=float32)],\n",
       " [array([0.3697163, 0.506865 ,       nan, ..., 0.5181427,       nan,\n",
       "               nan], dtype=float32),\n",
       "  array([0.5855317 , 0.40133458,        nan, ..., 0.80165285,        nan,\n",
       "                nan], dtype=float32),\n",
       "  array([0.6056838 , 0.69899523,        nan, ..., 0.6470711 ,        nan,\n",
       "                nan], dtype=float32),\n",
       "  array([0.5763043 , 0.56796944,        nan, ..., 0.72885257,        nan,\n",
       "                nan], dtype=float32),\n",
       "  array([0.56785953, 0.5173591 ,        nan, ..., 0.71456665,        nan,\n",
       "                nan], dtype=float32)],\n",
       " [array([0.46236584, 0.4020108 ,        nan, ..., 0.44727555,        nan,\n",
       "                nan], dtype=float32),\n",
       "  array([0.6069515 , 0.60222304,        nan, ..., 0.47814843,        nan,\n",
       "                nan], dtype=float32),\n",
       "  array([0.46526313, 0.5149152 ,        nan, ..., 0.69360226,        nan,\n",
       "                nan], dtype=float32),\n",
       "  array([0.6185477 , 0.65820736,        nan, ..., 0.51451   ,        nan,\n",
       "                nan], dtype=float32),\n",
       "  array([0.642154  , 0.5580071 ,        nan, ..., 0.57204163,        nan,\n",
       "                nan], dtype=float32)],\n",
       " [array([0.48089582, 0.4526098 ,        nan, ..., 0.44794184,        nan,\n",
       "                nan], dtype=float32),\n",
       "  array([0.48476145, 0.44961628,        nan, ..., 0.54979575,        nan,\n",
       "                nan], dtype=float32),\n",
       "  array([0.61551726, 0.7287499 ,        nan, ..., 0.57375014,        nan,\n",
       "                nan], dtype=float32),\n",
       "  array([0.63914967, 0.4784346 ,        nan, ..., 0.6003079 ,        nan,\n",
       "                nan], dtype=float32),\n",
       "  array([0.5002593, 0.5483664,       nan, ..., 0.616044 ,       nan,\n",
       "               nan], dtype=float32)],\n",
       " [array([0.21553734, 0.5863518 ,        nan, ..., 0.5015398 ,        nan,\n",
       "                nan], dtype=float32),\n",
       "  array([0.6330982, 0.697998 ,       nan, ..., 0.8268335,       nan,\n",
       "               nan], dtype=float32),\n",
       "  array([0.30285937, 0.7837647 ,        nan, ..., 0.5919929 ,        nan,\n",
       "                nan], dtype=float32),\n",
       "  array([0.48954162, 0.5991147 ,        nan, ..., 0.7916513 ,        nan,\n",
       "                nan], dtype=float32),\n",
       "  array([0.2895987 , 0.77499616,        nan, ..., 0.6249982 ,        nan,\n",
       "                nan], dtype=float32)],\n",
       " [array([0.9082305 , 0.44801176,        nan, ..., 0.58137196,        nan,\n",
       "                nan], dtype=float32),\n",
       "  array([0.73180073, 0.5561734 ,        nan, ..., 0.61400515,        nan,\n",
       "                nan], dtype=float32),\n",
       "  array([0.57120645, 0.5586088 ,        nan, ..., 0.5165524 ,        nan,\n",
       "                nan], dtype=float32),\n",
       "  array([0.5609422, 0.6185438,       nan, ..., 0.5286131,       nan,\n",
       "               nan], dtype=float32),\n",
       "  array([0.67882955, 0.5939502 ,        nan, ..., 0.47427553,        nan,\n",
       "                nan], dtype=float32)],\n",
       " [array([0.5723154 , 0.55444324,        nan, ..., 0.68861353,        nan,\n",
       "                nan], dtype=float32),\n",
       "  array([0.8087896 , 0.6066994 ,        nan, ..., 0.56787866,        nan,\n",
       "                nan], dtype=float32),\n",
       "  array([0.59987265, 0.49943608,        nan, ..., 0.79863715,        nan,\n",
       "                nan], dtype=float32),\n",
       "  array([0.6942207, 0.5274147,       nan, ..., 0.729192 ,       nan,\n",
       "               nan], dtype=float32),\n",
       "  array([0.55633014, 0.54479367,        nan, ..., 0.60686475,        nan,\n",
       "                nan], dtype=float32)],\n",
       " [array([0.36119682, 0.540798  ,        nan, ..., 0.4915141 ,        nan,\n",
       "                nan], dtype=float32),\n",
       "  array([0.6233579, 0.6203258,       nan, ..., 0.4991131,       nan,\n",
       "               nan], dtype=float32),\n",
       "  array([0.51274586, 0.5122192 ,        nan, ..., 0.5728894 ,        nan,\n",
       "                nan], dtype=float32),\n",
       "  array([0.67679983, 0.46002826,        nan, ..., 0.6744644 ,        nan,\n",
       "                nan], dtype=float32),\n",
       "  array([0.48134497, 0.6428032 ,        nan, ..., 0.47920993,        nan,\n",
       "                nan], dtype=float32)],\n",
       " [array([0.64449704, 0.42045313,        nan, ..., 0.50033325,        nan,\n",
       "                nan], dtype=float32),\n",
       "  array([0.61678004, 0.61063766,        nan, ..., 0.44127324,        nan,\n",
       "                nan], dtype=float32),\n",
       "  array([0.81611955, 0.47637844,        nan, ..., 0.65889513,        nan,\n",
       "                nan], dtype=float32),\n",
       "  array([0.65115017, 0.66414905,        nan, ..., 0.589779  ,        nan,\n",
       "                nan], dtype=float32),\n",
       "  array([0.6677166 , 0.58743936,        nan, ..., 0.55211437,        nan,\n",
       "                nan], dtype=float32)],\n",
       " [array([0.65997547, 0.61354417,        nan, ..., 0.55998325,        nan,\n",
       "                nan], dtype=float32),\n",
       "  array([0.5979098 , 0.6584659 ,        nan, ..., 0.68460774,        nan,\n",
       "                nan], dtype=float32),\n",
       "  array([0.8138374 , 0.8073023 ,        nan, ..., 0.52391905,        nan,\n",
       "                nan], dtype=float32),\n",
       "  array([0.6779508 , 0.60976285,        nan, ..., 0.4732704 ,        nan,\n",
       "                nan], dtype=float32),\n",
       "  array([0.63946754, 0.7305392 ,        nan, ..., 0.53721243,        nan,\n",
       "                nan], dtype=float32)],\n",
       " [array([0.43526188, 0.87455785,        nan, ..., 0.7223922 ,        nan,\n",
       "                nan], dtype=float32),\n",
       "  array([0.6364882, 0.6566634,       nan, ..., 0.5433904,       nan,\n",
       "               nan], dtype=float32),\n",
       "  array([0.4018375 , 0.54098475,        nan, ..., 0.76391697,        nan,\n",
       "                nan], dtype=float32),\n",
       "  array([0.68422   , 0.64638793,        nan, ..., 0.780162  ,        nan,\n",
       "                nan], dtype=float32),\n",
       "  array([0.5710798 , 0.7803399 ,        nan, ..., 0.61629593,        nan,\n",
       "                nan], dtype=float32)],\n",
       " [array([0.94852144, 0.65765685,        nan, ..., 0.5341953 ,        nan,\n",
       "                nan], dtype=float32),\n",
       "  array([0.8395063 , 0.60063356,        nan, ..., 0.7771436 ,        nan,\n",
       "                nan], dtype=float32),\n",
       "  array([0.70133644, 0.8144521 ,        nan, ..., 0.6908982 ,        nan,\n",
       "                nan], dtype=float32),\n",
       "  array([0.5832078, 0.6738136,       nan, ..., 0.6782563,       nan,\n",
       "               nan], dtype=float32),\n",
       "  array([0.54522634, 0.64335585,        nan, ..., 0.7635893 ,        nan,\n",
       "                nan], dtype=float32)],\n",
       " [array([0.36044988, 0.5063237 ,        nan, ..., 0.25988057,        nan,\n",
       "                nan], dtype=float32),\n",
       "  array([0.59051836, 0.81960243,        nan, ..., 0.6582205 ,        nan,\n",
       "                nan], dtype=float32),\n",
       "  array([0.61040705, 0.60900486,        nan, ..., 0.5849011 ,        nan,\n",
       "                nan], dtype=float32),\n",
       "  array([0.56024045, 0.77257824,        nan, ..., 0.51693   ,        nan,\n",
       "                nan], dtype=float32),\n",
       "  array([0.5880226 , 0.6559417 ,        nan, ..., 0.63772625,        nan,\n",
       "                nan], dtype=float32)],\n",
       " [array([0.40862793, 0.4652572 ,        nan, ..., 0.778528  ,        nan,\n",
       "                nan], dtype=float32),\n",
       "  array([0.5648454 , 0.53007764,        nan, ..., 0.5388791 ,        nan,\n",
       "                nan], dtype=float32),\n",
       "  array([0.5889478, 0.5802869,       nan, ..., 0.6747015,       nan,\n",
       "               nan], dtype=float32),\n",
       "  array([0.612989 , 0.6153518,       nan, ..., 0.8108785,       nan,\n",
       "               nan], dtype=float32),\n",
       "  array([0.5451468, 0.5780064,       nan, ..., 0.7211503,       nan,\n",
       "               nan], dtype=float32)],\n",
       " [array([0.39777005, 0.55179507,        nan, ..., 0.73468316,        nan,\n",
       "                nan], dtype=float32),\n",
       "  array([0.54417974, 0.7502313 ,        nan, ..., 0.53815854,        nan,\n",
       "                nan], dtype=float32),\n",
       "  array([0.64423627, 0.7300136 ,        nan, ..., 0.7472774 ,        nan,\n",
       "                nan], dtype=float32),\n",
       "  array([0.5784577, 0.6362015,       nan, ..., 0.7936954,       nan,\n",
       "               nan], dtype=float32),\n",
       "  array([0.4767588, 0.7878712,       nan, ..., 0.6325572,       nan,\n",
       "               nan], dtype=float32)],\n",
       " [array([0.2482246 , 0.6064747 ,        nan, ..., 0.42059907,        nan,\n",
       "                nan], dtype=float32),\n",
       "  array([0.66494596, 0.668541  ,        nan, ..., 0.5294986 ,        nan,\n",
       "                nan], dtype=float32),\n",
       "  array([0.5832219 , 0.8026598 ,        nan, ..., 0.63547444,        nan,\n",
       "                nan], dtype=float32),\n",
       "  array([0.49907327, 0.6041285 ,        nan, ..., 0.59872615,        nan,\n",
       "                nan], dtype=float32),\n",
       "  array([0.6751115, 0.7438608,       nan, ..., 0.4826953,       nan,\n",
       "               nan], dtype=float32)],\n",
       " [array([0.52858585, 0.47453502,        nan, ..., 0.5725361 ,        nan,\n",
       "                nan], dtype=float32),\n",
       "  array([0.5924942 , 0.49034798,        nan, ..., 0.560758  ,        nan,\n",
       "                nan], dtype=float32),\n",
       "  array([0.4993836 , 0.6372895 ,        nan, ..., 0.48616558,        nan,\n",
       "                nan], dtype=float32),\n",
       "  array([0.53184265, 0.5641626 ,        nan, ..., 0.5987606 ,        nan,\n",
       "                nan], dtype=float32),\n",
       "  array([0.6234818 , 0.60903096,        nan, ..., 0.5155131 ,        nan,\n",
       "                nan], dtype=float32)],\n",
       " [array([0.5226167, 0.3543771,       nan, ..., 0.5312681,       nan,\n",
       "               nan], dtype=float32),\n",
       "  array([0.5547219 , 0.58403575,        nan, ..., 0.46331307,        nan,\n",
       "                nan], dtype=float32),\n",
       "  array([0.55511475, 0.6385353 ,        nan, ..., 0.58037645,        nan,\n",
       "                nan], dtype=float32),\n",
       "  array([0.4773142 , 0.5135085 ,        nan, ..., 0.64662427,        nan,\n",
       "                nan], dtype=float32),\n",
       "  array([0.7134893, 0.6117144,       nan, ..., 0.5670702,       nan,\n",
       "               nan], dtype=float32)],\n",
       " [array([0.17587258, 0.5609808 ,        nan, ..., 0.61297315,        nan,\n",
       "                nan], dtype=float32),\n",
       "  array([0.5000955, 0.7044976,       nan, ..., 0.6592735,       nan,\n",
       "               nan], dtype=float32),\n",
       "  array([0.5506753 , 0.52940756,        nan, ..., 0.8069647 ,        nan,\n",
       "                nan], dtype=float32),\n",
       "  array([0.5021993 , 0.48596656,        nan, ..., 0.6092424 ,        nan,\n",
       "                nan], dtype=float32),\n",
       "  array([0.43464917, 0.5279147 ,        nan, ..., 0.73164696,        nan,\n",
       "                nan], dtype=float32)],\n",
       " [array([1.        , 0.82460374,        nan, ..., 0.5010294 ,        nan,\n",
       "                nan], dtype=float32),\n",
       "  array([0.99999994, 0.5757875 ,        nan, ..., 0.6198534 ,        nan,\n",
       "                nan], dtype=float32),\n",
       "  array([0.9999998 , 0.59138566,        nan, ..., 0.45805472,        nan,\n",
       "                nan], dtype=float32),\n",
       "  array([0.9999999, 0.7657051,       nan, ..., 0.5610913,       nan,\n",
       "               nan], dtype=float32),\n",
       "  array([0.9999998 , 0.80036765,        nan, ..., 0.63977736,        nan,\n",
       "                nan], dtype=float32)],\n",
       " [array([0.24262789, 0.9772012 ,        nan, ..., 0.53244627,        nan,\n",
       "                nan], dtype=float32),\n",
       "  array([0.48654187, 0.9260902 ,        nan, ..., 0.47656387,        nan,\n",
       "                nan], dtype=float32),\n",
       "  array([0.5392334, 0.8517983,       nan, ..., 0.5291437,       nan,\n",
       "               nan], dtype=float32),\n",
       "  array([0.47648278, 0.76280004,        nan, ..., 0.719595  ,        nan,\n",
       "                nan], dtype=float32),\n",
       "  array([0.5275826 , 0.6715292 ,        nan, ..., 0.49088937,        nan,\n",
       "                nan], dtype=float32)],\n",
       " [array([0.51767224, 0.32077754,        nan, ..., 0.1189013 ,        nan,\n",
       "                nan], dtype=float32),\n",
       "  array([0.70579916, 0.6246713 ,        nan, ..., 0.52636325,        nan,\n",
       "                nan], dtype=float32),\n",
       "  array([0.40003958, 0.58188146,        nan, ..., 0.5351147 ,        nan,\n",
       "                nan], dtype=float32),\n",
       "  array([0.56073207, 0.5844341 ,        nan, ..., 0.4897913 ,        nan,\n",
       "                nan], dtype=float32),\n",
       "  array([0.5178265 , 0.54759157,        nan, ..., 0.48485768,        nan,\n",
       "                nan], dtype=float32)],\n",
       " [array([0.4021304 , 0.47148138,        nan, ..., 0.47636405,        nan,\n",
       "                nan], dtype=float32),\n",
       "  array([0.56608284, 0.7616827 ,        nan, ..., 0.49207863,        nan,\n",
       "                nan], dtype=float32),\n",
       "  array([0.5944913 , 0.42284033,        nan, ..., 0.59845644,        nan,\n",
       "                nan], dtype=float32),\n",
       "  array([0.6126177 , 0.59133667,        nan, ..., 0.6792481 ,        nan,\n",
       "                nan], dtype=float32),\n",
       "  array([0.52632576, 0.2930295 ,        nan, ..., 0.41748762,        nan,\n",
       "                nan], dtype=float32)],\n",
       " [array([0.45077762, 0.28018758,        nan, ..., 0.4982384 ,        nan,\n",
       "                nan], dtype=float32),\n",
       "  array([0.5149477 , 0.4542247 ,        nan, ..., 0.48730785,        nan,\n",
       "                nan], dtype=float32),\n",
       "  array([0.61272705, 0.5274919 ,        nan, ..., 0.62698925,        nan,\n",
       "                nan], dtype=float32),\n",
       "  array([0.63185966, 0.57320976,        nan, ..., 0.5305007 ,        nan,\n",
       "                nan], dtype=float32),\n",
       "  array([0.48369005, 0.3861559 ,        nan, ..., 0.6681927 ,        nan,\n",
       "                nan], dtype=float32)],\n",
       " [array([0.6260868 , 0.63658124,        nan, ..., 0.5000576 ,        nan,\n",
       "                nan], dtype=float32),\n",
       "  array([0.6410437, 0.6269974,       nan, ..., 0.8290693,       nan,\n",
       "               nan], dtype=float32),\n",
       "  array([0.81309116, 0.8155978 ,        nan, ..., 0.5865166 ,        nan,\n",
       "                nan], dtype=float32),\n",
       "  array([0.6237437 , 0.6385699 ,        nan, ..., 0.79770976,        nan,\n",
       "                nan], dtype=float32),\n",
       "  array([0.70527947, 0.6836428 ,        nan, ..., 0.6143877 ,        nan,\n",
       "                nan], dtype=float32)],\n",
       " [array([0.4957776, 1.       ,       nan, ..., 0.7134022,       nan,\n",
       "               nan], dtype=float32),\n",
       "  array([0.48176345, 1.        ,        nan, ..., 0.5485421 ,        nan,\n",
       "                nan], dtype=float32),\n",
       "  array([0.58054733, 0.99999994,        nan, ..., 0.77480125,        nan,\n",
       "                nan], dtype=float32),\n",
       "  array([0.6978928, 1.       ,       nan, ..., 0.7683324,       nan,\n",
       "               nan], dtype=float32),\n",
       "  array([0.4313371 , 0.99999994,        nan, ..., 0.6084397 ,        nan,\n",
       "                nan], dtype=float32)],\n",
       " [array([0.56167996, 0.58701235,        nan, ..., 0.4995023 ,        nan,\n",
       "                nan], dtype=float32),\n",
       "  array([0.7269946 , 0.69701606,        nan, ..., 0.41994342,        nan,\n",
       "                nan], dtype=float32),\n",
       "  array([0.5311284 , 0.78452253,        nan, ..., 0.6975468 ,        nan,\n",
       "                nan], dtype=float32),\n",
       "  array([0.5208851 , 0.5989911 ,        nan, ..., 0.53374076,        nan,\n",
       "                nan], dtype=float32),\n",
       "  array([0.49914783, 0.7741828 ,        nan, ..., 0.5683355 ,        nan,\n",
       "                nan], dtype=float32)],\n",
       " [array([0.5963186 , 0.26971966,        nan, ..., 0.67729014,        nan,\n",
       "                nan], dtype=float32),\n",
       "  array([0.6832813, 0.7029705,       nan, ..., 0.5788902,       nan,\n",
       "               nan], dtype=float32),\n",
       "  array([0.7941949 , 0.42290664,        nan, ..., 0.8062961 ,        nan,\n",
       "                nan], dtype=float32),\n",
       "  array([0.5994019, 0.5381185,       nan, ..., 0.7092105,       nan,\n",
       "               nan], dtype=float32),\n",
       "  array([0.76108146, 0.42690003,        nan, ..., 0.61587185,        nan,\n",
       "                nan], dtype=float32)],\n",
       " [array([0.185552  , 0.50625074,        nan, ..., 0.30295238,        nan,\n",
       "                nan], dtype=float32),\n",
       "  array([0.5112369 , 0.5227454 ,        nan, ..., 0.63148415,        nan,\n",
       "                nan], dtype=float32),\n",
       "  array([0.53338563, 0.552697  ,        nan, ..., 0.59392333,        nan,\n",
       "                nan], dtype=float32),\n",
       "  array([0.4795373, 0.610701 ,       nan, ..., 0.5522981,       nan,\n",
       "               nan], dtype=float32),\n",
       "  array([0.5193365 , 0.59763724,        nan, ..., 0.57387686,        nan,\n",
       "                nan], dtype=float32)],\n",
       " [array([0.30320525, 0.5283258 ,        nan, ..., 0.9878729 ,        nan,\n",
       "                nan], dtype=float32),\n",
       "  array([0.5898514, 0.6911985,       nan, ..., 0.9601579,       nan,\n",
       "               nan], dtype=float32),\n",
       "  array([0.43751225, 0.44392434,        nan, ..., 0.9182676 ,        nan,\n",
       "                nan], dtype=float32),\n",
       "  array([0.45109713, 0.51881254,        nan, ..., 0.8644753 ,        nan,\n",
       "                nan], dtype=float32),\n",
       "  array([0.4782198, 0.558545 ,       nan, ..., 0.8020017,       nan,\n",
       "               nan], dtype=float32)],\n",
       " [array([1.        , 0.7668883 ,        nan, ..., 0.51466906,        nan,\n",
       "                nan], dtype=float32),\n",
       "  array([1.        , 0.53553474,        nan, ..., 0.43849993,        nan,\n",
       "                nan], dtype=float32),\n",
       "  array([1.0000001 , 0.69554245,        nan, ..., 0.6298816 ,        nan,\n",
       "                nan], dtype=float32),\n",
       "  array([1.0000001 , 0.81160146,        nan, ..., 0.63727427,        nan,\n",
       "                nan], dtype=float32),\n",
       "  array([1.0000001 , 0.6955408 ,        nan, ..., 0.53071815,        nan,\n",
       "                nan], dtype=float32)],\n",
       " [array([0.5414352, 0.8919616,       nan, ..., 0.5156928,       nan,\n",
       "               nan], dtype=float32),\n",
       "  array([0.76242375, 0.6936382 ,        nan, ..., 0.47173446,        nan,\n",
       "                nan], dtype=float32),\n",
       "  array([0.45736498, 0.5481244 ,        nan, ..., 0.6318178 ,        nan,\n",
       "                nan], dtype=float32),\n",
       "  array([0.5989251 , 0.59818596,        nan, ..., 0.52040255,        nan,\n",
       "                nan], dtype=float32),\n",
       "  array([0.4094249 , 0.73628616,        nan, ..., 0.6682064 ,        nan,\n",
       "                nan], dtype=float32)],\n",
       " [array([0.13038267, 0.53476185,        nan, ..., 0.5356862 ,        nan,\n",
       "                nan], dtype=float32),\n",
       "  array([0.52240455, 0.62967676,        nan, ..., 0.6504398 ,        nan,\n",
       "                nan], dtype=float32),\n",
       "  array([0.5300835 , 0.49641642,        nan, ..., 0.48462528,        nan,\n",
       "                nan], dtype=float32),\n",
       "  array([0.5242848 , 0.47610623,        nan, ..., 0.48105973,        nan,\n",
       "                nan], dtype=float32),\n",
       "  array([0.3942921 , 0.63642585,        nan, ..., 0.61108065,        nan,\n",
       "                nan], dtype=float32)],\n",
       " [array([0.5915813 , 0.3864778 ,        nan, ..., 0.55849254,        nan,\n",
       "                nan], dtype=float32),\n",
       "  array([0.69124687, 0.550404  ,        nan, ..., 0.74001527,        nan,\n",
       "                nan], dtype=float32),\n",
       "  array([0.5864619 , 0.66004074,        nan, ..., 0.74269855,        nan,\n",
       "                nan], dtype=float32),\n",
       "  array([0.5104204, 0.5130366,       nan, ..., 0.6242261,       nan,\n",
       "               nan], dtype=float32),\n",
       "  array([0.46576136, 0.5904909 ,        nan, ..., 0.7907824 ,        nan,\n",
       "                nan], dtype=float32)],\n",
       " [array([0.48782244, 0.54599386,        nan, ..., 0.75210816,        nan,\n",
       "                nan], dtype=float32),\n",
       "  array([0.39937204, 0.7324957 ,        nan, ..., 0.5346432 ,        nan,\n",
       "                nan], dtype=float32),\n",
       "  array([0.7343336 , 0.48175323,        nan, ..., 0.7205703 ,        nan,\n",
       "                nan], dtype=float32),\n",
       "  array([0.51981986, 0.5375094 ,        nan, ..., 0.8068131 ,        nan,\n",
       "                nan], dtype=float32),\n",
       "  array([0.49243855, 0.48930904,        nan, ..., 0.66411054,        nan,\n",
       "                nan], dtype=float32)],\n",
       " [array([0.24272406, 0.3871571 ,        nan, ..., 0.604564  ,        nan,\n",
       "                nan], dtype=float32),\n",
       "  array([0.67169386, 0.5822937 ,        nan, ..., 0.62731373,        nan,\n",
       "                nan], dtype=float32),\n",
       "  array([0.5648993 , 0.58325803,        nan, ..., 0.56069463,        nan,\n",
       "                nan], dtype=float32),\n",
       "  array([0.5373776 , 0.61127627,        nan, ..., 0.5085637 ,        nan,\n",
       "                nan], dtype=float32),\n",
       "  array([0.626116  , 0.5457356 ,        nan, ..., 0.45499295,        nan,\n",
       "                nan], dtype=float32)],\n",
       " [array([0.38514775, 0.502081  ,        nan, ..., 0.4522278 ,        nan,\n",
       "                nan], dtype=float32),\n",
       "  array([0.5941165 , 0.82601684,        nan, ..., 0.6027433 ,        nan,\n",
       "                nan], dtype=float32),\n",
       "  array([0.55675226, 0.5939674 ,        nan, ..., 0.478763  ,        nan,\n",
       "                nan], dtype=float32),\n",
       "  array([0.6363431 , 0.7894572 ,        nan, ..., 0.61965233,        nan,\n",
       "                nan], dtype=float32),\n",
       "  array([0.5321917, 0.6287447,       nan, ..., 0.6522205,       nan,\n",
       "               nan], dtype=float32)],\n",
       " [array([0.5000241, 0.5231524,       nan, ..., 0.5465697,       nan,\n",
       "               nan], dtype=float32),\n",
       "  array([0.82911986, 0.45002598,        nan, ..., 0.64753085,        nan,\n",
       "                nan], dtype=float32),\n",
       "  array([0.5863919, 0.6155098,       nan, ..., 0.5145432,       nan,\n",
       "               nan], dtype=float32),\n",
       "  array([0.7978475 , 0.61667264,        nan, ..., 0.43889153,        nan,\n",
       "                nan], dtype=float32),\n",
       "  array([0.6141423 , 0.5771709 ,        nan, ..., 0.62766033,        nan,\n",
       "                nan], dtype=float32)],\n",
       " [array([0.2626512, 0.5003216,       nan, ..., 0.5592108,       nan,\n",
       "               nan], dtype=float32),\n",
       "  array([0.6579093, 0.4825231,       nan, ..., 0.484295 ,       nan,\n",
       "               nan], dtype=float32),\n",
       "  array([0.5801482 , 0.57191557,        nan, ..., 0.49043027,        nan,\n",
       "                nan], dtype=float32),\n",
       "  array([0.53141034, 0.7027038 ,        nan, ..., 0.70763946,        nan,\n",
       "                nan], dtype=float32),\n",
       "  array([0.618955  , 0.43664154,        nan, ..., 0.5475921 ,        nan,\n",
       "                nan], dtype=float32)],\n",
       " [array([0.54119384, 0.5320819 ,        nan, ..., 0.9495939 ,        nan,\n",
       "                nan], dtype=float32),\n",
       "  array([0.51675576, 0.5039457 ,        nan, ..., 0.842606  ,        nan,\n",
       "                nan], dtype=float32),\n",
       "  array([0.50854146, 0.56834394,        nan, ..., 0.7061617 ,        nan,\n",
       "                nan], dtype=float32),\n",
       "  array([0.65626496, 0.57078946,        nan, ..., 0.5872817 ,        nan,\n",
       "                nan], dtype=float32),\n",
       "  array([0.5413173 , 0.63349605,        nan, ..., 0.544652  ,        nan,\n",
       "                nan], dtype=float32)],\n",
       " [array([0.57084703, 0.19093505,        nan, ..., 0.6448356 ,        nan,\n",
       "                nan], dtype=float32),\n",
       "  array([0.72126096, 0.603236  ,        nan, ..., 0.6163509 ,        nan,\n",
       "                nan], dtype=float32),\n",
       "  array([0.76315945, 0.3773682 ,        nan, ..., 0.8161157 ,        nan,\n",
       "                nan], dtype=float32),\n",
       "  array([0.6081974 , 0.50188994,        nan, ..., 0.65170914,        nan,\n",
       "                nan], dtype=float32),\n",
       "  array([0.7887247 , 0.5560658 ,        nan, ..., 0.66705054,        nan,\n",
       "                nan], dtype=float32)],\n",
       " [array([0.52043694, 0.5093457 ,        nan, ..., 0.5093611 ,        nan,\n",
       "                nan], dtype=float32),\n",
       "  array([0.4455775 , 0.49979493,        nan, ..., 0.6119934 ,        nan,\n",
       "                nan], dtype=float32),\n",
       "  array([0.6048828 , 0.60703707,        nan, ..., 0.48735186,        nan,\n",
       "                nan], dtype=float32),\n",
       "  array([0.6645207, 0.5194495,       nan, ..., 0.5093777,       nan,\n",
       "               nan], dtype=float32),\n",
       "  array([0.5219235 , 0.68768036,        nan, ..., 0.6888689 ,        nan,\n",
       "                nan], dtype=float32)],\n",
       " [array([0.59008825, 0.48780945,        nan, ..., 0.88981014,        nan,\n",
       "                nan], dtype=float32),\n",
       "  array([0.6861528 , 0.43000838,        nan, ..., 0.68884504,        nan,\n",
       "                nan], dtype=float32),\n",
       "  array([0.59010917, 0.6955504 ,        nan, ..., 0.54630387,        nan,\n",
       "                nan], dtype=float32),\n",
       "  array([0.48555765, 0.5509313 ,        nan, ..., 0.6039018 ,        nan,\n",
       "                nan], dtype=float32),\n",
       "  array([0.49725097, 0.5392687 ,        nan, ..., 0.7427888 ,        nan,\n",
       "                nan], dtype=float32)],\n",
       " [array([0.3474099 , 0.70406866,        nan, ..., 0.5267373 ,        nan,\n",
       "                nan], dtype=float32),\n",
       "  array([0.6126879 , 0.55498546,        nan, ..., 0.73975736,        nan,\n",
       "                nan], dtype=float32),\n",
       "  array([0.5701639 , 0.7848731 ,        nan, ..., 0.40500847,        nan,\n",
       "                nan], dtype=float32),\n",
       "  array([0.61110556, 0.7545746 ,        nan, ..., 0.58646405,        nan,\n",
       "                nan], dtype=float32),\n",
       "  array([0.5397882, 0.6043119,       nan, ..., 0.4278912,       nan,\n",
       "               nan], dtype=float32)],\n",
       " [array([0.7122596 , 0.5044376 ,        nan, ..., 0.69219524,        nan,\n",
       "                nan], dtype=float32),\n",
       "  array([0.5492726 , 0.5131165 ,        nan, ..., 0.56465995,        nan,\n",
       "                nan], dtype=float32),\n",
       "  array([0.7761028, 0.5689684,       nan, ..., 0.7957809,       nan,\n",
       "               nan], dtype=float32),\n",
       "  array([0.766724  , 0.60189635,        nan, ..., 0.73531   ,        nan,\n",
       "                nan], dtype=float32),\n",
       "  array([0.6077085 , 0.6075367 ,        nan, ..., 0.60523933,        nan,\n",
       "                nan], dtype=float32)],\n",
       " [array([0.35460854, 0.8795383 ,        nan, ..., 0.99070036,        nan,\n",
       "                nan], dtype=float32),\n",
       "  array([0.6093664 , 0.666818  ,        nan, ..., 0.96934193,        nan,\n",
       "                nan], dtype=float32),\n",
       "  array([0.5663521 , 0.54132   ,        nan, ..., 0.93674946,        nan,\n",
       "                nan], dtype=float32),\n",
       "  array([0.6203979, 0.6323259,       nan, ..., 0.8942427,       nan,\n",
       "               nan], dtype=float32),\n",
       "  array([0.5286059, 0.7697641,       nan, ..., 0.8436718,       nan,\n",
       "               nan], dtype=float32)],\n",
       " [array([0.58866096, 0.5571452 ,        nan, ..., 0.49744627,        nan,\n",
       "                nan], dtype=float32),\n",
       "  array([0.81841636, 0.7649897 ,        nan, ..., 0.38617846,        nan,\n",
       "                nan], dtype=float32),\n",
       "  array([0.6772062, 0.5223767,       nan, ..., 0.7329624,       nan,\n",
       "               nan], dtype=float32),\n",
       "  array([0.7371778, 0.5872453,       nan, ..., 0.5342263,       nan,\n",
       "               nan], dtype=float32),\n",
       "  array([0.705927  , 0.46832356,        nan, ..., 0.47802183,        nan,\n",
       "                nan], dtype=float32)],\n",
       " [array([0.5394908 , 0.99999994,        nan, ..., 0.50308865,        nan,\n",
       "                nan], dtype=float32),\n",
       "  array([0.5792469, 1.       ,       nan, ..., 0.4533224,       nan,\n",
       "               nan], dtype=float32),\n",
       "  array([0.5077315, 1.       ,       nan, ..., 0.6600099,       nan,\n",
       "               nan], dtype=float32),\n",
       "  array([0.5394271 , 0.99999994,        nan, ..., 0.53005403,        nan,\n",
       "                nan], dtype=float32),\n",
       "  array([0.60240936, 0.99999994,        nan, ..., 0.6337121 ,        nan,\n",
       "                nan], dtype=float32)],\n",
       " [array([0.50617623, 0.47133863,        nan, ..., 0.5181406 ,        nan,\n",
       "                nan], dtype=float32),\n",
       "  array([0.424598  , 0.43098268,        nan, ..., 0.47408897,        nan,\n",
       "                nan], dtype=float32),\n",
       "  array([0.68045276, 0.7244314 ,        nan, ..., 0.5541712 ,        nan,\n",
       "                nan], dtype=float32),\n",
       "  array([0.5535167 , 0.49967334,        nan, ..., 0.7137786 ,        nan,\n",
       "                nan], dtype=float32),\n",
       "  array([0.5740396 , 0.54273874,        nan, ..., 0.4647466 ,        nan,\n",
       "                nan], dtype=float32)],\n",
       " [array([0.28399023, 0.439382  ,        nan, ..., 0.49002144,        nan,\n",
       "                nan], dtype=float32),\n",
       "  array([0.64677525, 0.52941436,        nan, ..., 0.52487254,        nan,\n",
       "                nan], dtype=float32),\n",
       "  array([0.57899386, 0.60521615,        nan, ..., 0.5555256 ,        nan,\n",
       "                nan], dtype=float32),\n",
       "  array([0.55683416, 0.63122207,        nan, ..., 0.63614887,        nan,\n",
       "                nan], dtype=float32),\n",
       "  array([0.5841903 , 0.48583475,        nan, ..., 0.5587702 ,        nan,\n",
       "                nan], dtype=float32)],\n",
       " [array([0.44394374, 0.552015  ,        nan, ..., 0.50419354,        nan,\n",
       "                nan], dtype=float32),\n",
       "  array([0.5459951 , 0.7156723 ,        nan, ..., 0.44950336,        nan,\n",
       "                nan], dtype=float32),\n",
       "  array([0.5792077, 0.5004513,       nan, ..., 0.6274097,       nan,\n",
       "               nan], dtype=float32),\n",
       "  array([0.6162446 , 0.51319903,        nan, ..., 0.64562964,        nan,\n",
       "                nan], dtype=float32),\n",
       "  array([0.57274324, 0.5047647 ,        nan, ..., 0.50622   ,        nan,\n",
       "                nan], dtype=float32)],\n",
       " [array([0.63331944, 0.72454095,        nan, ..., 0.5873203 ,        nan,\n",
       "                nan], dtype=float32),\n",
       "  array([0.6313056 , 0.54232067,        nan, ..., 0.57659525,        nan,\n",
       "                nan], dtype=float32),\n",
       "  array([0.81504256, 0.76115066,        nan, ..., 0.4978957 ,        nan,\n",
       "                nan], dtype=float32),\n",
       "  array([0.63370746, 0.7827592 ,        nan, ..., 0.5695478 ,        nan,\n",
       "                nan], dtype=float32),\n",
       "  array([0.69034517, 0.6187035 ,        nan, ..., 0.49657592,        nan,\n",
       "                nan], dtype=float32)],\n",
       " [array([0.31135675, 0.5489805 ,        nan, ..., 0.5907629 ,        nan,\n",
       "                nan], dtype=float32),\n",
       "  array([0.6188783, 0.5223629,       nan, ..., 0.6914575,       nan,\n",
       "               nan], dtype=float32),\n",
       "  array([0.61727077, 0.4989327 ,        nan, ..., 0.7886452 ,        nan,\n",
       "                nan], dtype=float32),\n",
       "  array([0.5235494, 0.6507303,       nan, ..., 0.5986792,       nan,\n",
       "               nan], dtype=float32),\n",
       "  array([0.58325946, 0.540983  ,        nan, ..., 0.7692576 ,        nan,\n",
       "                nan], dtype=float32)],\n",
       " [array([0.4978726 , 0.86327374,        nan, ..., 0.34025845,        nan,\n",
       "                nan], dtype=float32),\n",
       "  array([0.38015196, 0.63498145,        nan, ..., 0.6752256 ,        nan,\n",
       "                nan], dtype=float32),\n",
       "  array([0.73899424, 0.54471076,        nan, ..., 0.55232424,        nan,\n",
       "                nan], dtype=float32),\n",
       "  array([0.5307765 , 0.6777673 ,        nan, ..., 0.53247744,        nan,\n",
       "                nan], dtype=float32),\n",
       "  array([0.46509033, 0.7981855 ,        nan, ..., 0.5343722 ,        nan,\n",
       "                nan], dtype=float32)],\n",
       " [array([0.29962915, 0.25993547,        nan, ..., 0.25594464,        nan,\n",
       "                nan], dtype=float32),\n",
       "  array([0.43164247, 0.5989784 ,        nan, ..., 0.48787028,        nan,\n",
       "                nan], dtype=float32),\n",
       "  array([0.56094384, 0.4046473 ,        nan, ..., 0.5179173 ,        nan,\n",
       "                nan], dtype=float32),\n",
       "  array([0.51163125, 0.4706763 ,        nan, ..., 0.51853615,        nan,\n",
       "                nan], dtype=float32),\n",
       "  array([0.47206423, 0.5037326 ,        nan, ..., 0.47192287,        nan,\n",
       "                nan], dtype=float32)],\n",
       " [array([0.18120529, 0.5219863 ,        nan, ..., 0.7402279 ,        nan,\n",
       "                nan], dtype=float32),\n",
       "  array([0.56715626, 0.5253455 ,        nan, ..., 0.53652614,        nan,\n",
       "                nan], dtype=float32),\n",
       "  array([0.42143905, 0.57965946,        nan, ..., 0.7391517 ,        nan,\n",
       "                nan], dtype=float32),\n",
       "  array([0.5386867 , 0.49394542,        nan, ..., 0.79868716,        nan,\n",
       "                nan], dtype=float32),\n",
       "  array([0.52486885, 0.70480853,        nan, ..., 0.6416795 ,        nan,\n",
       "                nan], dtype=float32)],\n",
       " [array([0.5428514 , 0.14639553,        nan, ..., 0.5633038 ,        nan,\n",
       "                nan], dtype=float32),\n",
       "  array([0.46341896, 0.5441917 ,        nan, ..., 0.7326946 ,        nan,\n",
       "                nan], dtype=float32),\n",
       "  array([0.5477122, 0.4896354,       nan, ..., 0.7511097,       nan,\n",
       "               nan], dtype=float32),\n",
       "  array([0.6857884 , 0.50346273,        nan, ..., 0.61704487,        nan,\n",
       "                nan], dtype=float32),\n",
       "  array([0.55061513, 0.5292175 ,        nan, ..., 0.79105216,        nan,\n",
       "                nan], dtype=float32)],\n",
       " [array([0.5264184 , 0.27660215,        nan, ..., 0.5657183 ,        nan,\n",
       "                nan], dtype=float32),\n",
       "  array([0.5244932, 0.7577235,       nan, ..., 0.7813688,       nan,\n",
       "               nan], dtype=float32),\n",
       "  array([0.5721526 , 0.48423123,        nan, ..., 0.5634675 ,        nan,\n",
       "                nan], dtype=float32),\n",
       "  array([0.5128451 , 0.68155354,        nan, ..., 0.61645275,        nan,\n",
       "                nan], dtype=float32),\n",
       "  array([0.6839466, 0.5597048,       nan, ..., 0.5140971,       nan,\n",
       "               nan], dtype=float32)],\n",
       " [array([0.5489891 , 0.50105906,        nan, ..., 0.329167  ,        nan,\n",
       "                nan], dtype=float32),\n",
       "  array([0.7545179, 0.3845869,       nan, ..., 0.6165952,       nan,\n",
       "               nan], dtype=float32),\n",
       "  array([0.7243511, 0.7293895,       nan, ..., 0.5919338,       nan,\n",
       "               nan], dtype=float32),\n",
       "  array([0.64189446, 0.53843206,        nan, ..., 0.57288194,        nan,\n",
       "                nan], dtype=float32),\n",
       "  array([0.7857012, 0.4837113,       nan, ..., 0.5638718,       nan,\n",
       "               nan], dtype=float32)],\n",
       " [array([0.1712825 , 0.67994845,        nan, ..., 0.15800887,        nan,\n",
       "                nan], dtype=float32),\n",
       "  array([0.5139445 , 0.576196  ,        nan, ..., 0.72339773,        nan,\n",
       "                nan], dtype=float32),\n",
       "  array([0.54150313, 0.804688  ,        nan, ..., 0.473045  ,        nan,\n",
       "                nan], dtype=float32),\n",
       "  array([0.4558858 , 0.7139693 ,        nan, ..., 0.61603504,        nan,\n",
       "                nan], dtype=float32),\n",
       "  array([0.5505403 , 0.61325186,        nan, ..., 0.58070993,        nan,\n",
       "                nan], dtype=float32)],\n",
       " [array([0.4727694 , 0.24619065,        nan, ..., 0.5116898 ,        nan,\n",
       "                nan], dtype=float32),\n",
       "  array([0.61515695, 0.55500954,        nan, ..., 0.43571186,        nan,\n",
       "                nan], dtype=float32),\n",
       "  array([0.45333853, 0.43887368,        nan, ..., 0.6407702 ,        nan,\n",
       "                nan], dtype=float32),\n",
       "  array([0.60173666, 0.49248704,        nan, ..., 0.62471676,        nan,\n",
       "                nan], dtype=float32),\n",
       "  array([0.6531368 , 0.54048073,        nan, ..., 0.5334764 ,        nan,\n",
       "                nan], dtype=float32)],\n",
       " [array([0.6637894 , 0.52880305,        nan, ..., 0.5232075 ,        nan,\n",
       "                nan], dtype=float32),\n",
       "  array([0.5935151, 0.5846718,       nan, ..., 0.7939316,       nan,\n",
       "               nan], dtype=float32),\n",
       "  array([0.8126204, 0.5035016,       nan, ..., 0.661816 ,       nan,\n",
       "               nan], dtype=float32),\n",
       "  array([0.68480814, 0.5387937 ,        nan, ..., 0.7117282 ,        nan,\n",
       "                nan], dtype=float32),\n",
       "  array([0.6334024 , 0.62209004,        nan, ..., 0.7333493 ,        nan,\n",
       "                nan], dtype=float32)],\n",
       " [array([1.        , 0.69709074,        nan, ..., 0.9651135 ,        nan,\n",
       "                nan], dtype=float32),\n",
       "  array([0.9999999, 0.5604804,       nan, ..., 0.888683 ,       nan,\n",
       "               nan], dtype=float32),\n",
       "  array([0.9999999, 0.7915482,       nan, ..., 0.7831303,       nan,\n",
       "               nan], dtype=float32),\n",
       "  array([0.9999998 , 0.74345994,        nan, ..., 0.6695683 ,        nan,\n",
       "                nan], dtype=float32),\n",
       "  array([0.9999998 , 0.60401773,        nan, ..., 0.5790105 ,        nan,\n",
       "                nan], dtype=float32)],\n",
       " [array([0.39719754, 0.58721393,        nan, ..., 0.57819843,        nan,\n",
       "                nan], dtype=float32),\n",
       "  array([0.5334438 , 0.74795276,        nan, ..., 0.7101841 ,        nan,\n",
       "                nan], dtype=float32),\n",
       "  array([0.67443645, 0.6329928 ,        nan, ..., 0.7736109 ,        nan,\n",
       "                nan], dtype=float32),\n",
       "  array([0.51365554, 0.5417194 ,        nan, ..., 0.6023892 ,        nan,\n",
       "                nan], dtype=float32),\n",
       "  array([0.5583108 , 0.596623  ,        nan, ..., 0.78357756,        nan,\n",
       "                nan], dtype=float32)],\n",
       " [array([0.5918999, 0.600627 ,       nan, ..., 0.1833075,       nan,\n",
       "               nan], dtype=float32),\n",
       "  array([0.6897783 , 0.5464437 ,        nan, ..., 0.49816313,        nan,\n",
       "                nan], dtype=float32),\n",
       "  array([0.789835  , 0.46694142,        nan, ..., 0.5486063 ,        nan,\n",
       "                nan], dtype=float32),\n",
       "  array([0.5987139 , 0.6151788 ,        nan, ..., 0.50529605,        nan,\n",
       "                nan], dtype=float32),\n",
       "  array([0.7676663 , 0.53270555,        nan, ..., 0.4404886 ,        nan,\n",
       "                nan], dtype=float32)],\n",
       " [array([0.9333027 , 0.73750216,        nan, ..., 0.794625  ,        nan,\n",
       "                nan], dtype=float32),\n",
       "  array([0.796769  , 0.53727025,        nan, ..., 0.54746187,        nan,\n",
       "                nan], dtype=float32),\n",
       "  array([0.64020336, 0.74319214,        nan, ..., 0.6449914 ,        nan,\n",
       "                nan], dtype=float32),\n",
       "  array([0.54724073, 0.7963245 ,        nan, ..., 0.80292714,        nan,\n",
       "                nan], dtype=float32),\n",
       "  array([0.57982934, 0.63707155,        nan, ..., 0.75480723,        nan,\n",
       "                nan], dtype=float32)],\n",
       " [array([0.5319103 , 0.43089473,        nan, ..., 0.5890147 ,        nan,\n",
       "                nan], dtype=float32),\n",
       "  array([0.4804848 , 0.52410483,        nan, ..., 0.52787745,        nan,\n",
       "                nan], dtype=float32),\n",
       "  array([0.5269045, 0.6329536,       nan, ..., 0.4535598,       nan,\n",
       "               nan], dtype=float32),\n",
       "  array([0.71670765, 0.5922618 ,        nan, ..., 0.6541089 ,        nan,\n",
       "                nan], dtype=float32),\n",
       "  array([0.49122435, 0.5229595 ,        nan, ..., 0.5463016 ,        nan,\n",
       "                nan], dtype=float32)],\n",
       " [array([0.42725688, 0.57074046,        nan, ..., 0.5163345 ,        nan,\n",
       "                nan], dtype=float32),\n",
       "  array([0.4747335, 0.7214221,       nan, ..., 0.4607492,       nan,\n",
       "               nan], dtype=float32),\n",
       "  array([0.7359419, 0.7629987,       nan, ..., 0.6272149,       nan,\n",
       "               nan], dtype=float32),\n",
       "  array([0.42474338, 0.60830194,        nan, ..., 0.5706858 ,        nan,\n",
       "                nan], dtype=float32),\n",
       "  array([0.58845496, 0.7887793 ,        nan, ..., 0.61851996,        nan,\n",
       "                nan], dtype=float32)],\n",
       " [array([0.9525712 , 0.5138852 ,        nan, ..., 0.54710066,        nan,\n",
       "                nan], dtype=float32),\n",
       "  array([0.8512686 , 0.5821348 ,        nan, ..., 0.75740427,        nan,\n",
       "                nan], dtype=float32),\n",
       "  array([0.7198988 , 0.5060692 ,        nan, ..., 0.72042173,        nan,\n",
       "                nan], dtype=float32),\n",
       "  array([0.5996862 , 0.54314387,        nan, ..., 0.645947  ,        nan,\n",
       "                nan], dtype=float32),\n",
       "  array([0.5447994, 0.6532122,       nan, ..., 0.783904 ,       nan,\n",
       "               nan], dtype=float32)],\n",
       " [array([0.57980096, 0.50049615,        nan, ..., 0.27510205,        nan,\n",
       "                nan], dtype=float32),\n",
       "  array([0.4837665, 0.4509945,       nan, ..., 0.6590807,       nan,\n",
       "               nan], dtype=float32),\n",
       "  array([0.45808107, 0.64018095,        nan, ..., 0.54906875,        nan,\n",
       "                nan], dtype=float32),\n",
       "  array([0.7076548 , 0.615345  ,        nan, ..., 0.60279274,        nan,\n",
       "                nan], dtype=float32),\n",
       "  array([0.5891384 , 0.5370781 ,        nan, ..., 0.52388716,        nan,\n",
       "                nan], dtype=float32)],\n",
       " [array([0.54823625, 0.67206097,        nan, ..., 0.87018913,        nan,\n",
       "                nan], dtype=float32),\n",
       "  array([0.75566846, 0.58437407,        nan, ..., 0.64804775,        nan,\n",
       "                nan], dtype=float32),\n",
       "  array([0.72279614, 0.80911475,        nan, ..., 0.5417227 ,        nan,\n",
       "                nan], dtype=float32),\n",
       "  array([0.6434887, 0.6997787,       nan, ..., 0.6586718,       nan,\n",
       "               nan], dtype=float32),\n",
       "  array([0.7850177, 0.6218651,       nan, ..., 0.7882519,       nan,\n",
       "               nan], dtype=float32)],\n",
       " [array([0.97685075, 0.13701436,        nan, ..., 0.33947682,        nan,\n",
       "                nan], dtype=float32),\n",
       "  array([0.9249877 , 0.7334561 ,        nan, ..., 0.60161364,        nan,\n",
       "                nan], dtype=float32),\n",
       "  array([0.84970623, 0.4475262 ,        nan, ..., 0.61773854,        nan,\n",
       "                nan], dtype=float32),\n",
       "  array([0.7597589, 0.6408654,       nan, ..., 0.5372146,       nan,\n",
       "               nan], dtype=float32),\n",
       "  array([0.6679994 , 0.5482179 ,        nan, ..., 0.59641445,        nan,\n",
       "                nan], dtype=float32)],\n",
       " [array([0.6390871 , 0.49808958,        nan, ..., 1.        ,        nan,\n",
       "                nan], dtype=float32),\n",
       "  array([0.6237255, 0.6573556,       nan, ..., 0.9999999,       nan,\n",
       "               nan], dtype=float32),\n",
       "  array([0.81588876, 0.413078  ,        nan, ..., 1.        ,        nan,\n",
       "                nan], dtype=float32),\n",
       "  array([0.6424411 , 0.56344724,        nan, ..., 0.9999999 ,        nan,\n",
       "                nan], dtype=float32),\n",
       "  array([0.67853683, 0.62383175,        nan, ..., 1.0000001 ,        nan,\n",
       "                nan], dtype=float32)],\n",
       " [array([0.73714274, 0.48041546,        nan, ..., 0.840295  ,        nan,\n",
       "                nan], dtype=float32),\n",
       "  array([0.5373768, 0.478074 ,       nan, ..., 0.5968587,       nan,\n",
       "               nan], dtype=float32),\n",
       "  array([0.7437182 , 0.62612265,        nan, ..., 0.56766015,        nan,\n",
       "                nan], dtype=float32),\n",
       "  array([0.7959997, 0.6335152,       nan, ..., 0.7348228,       nan,\n",
       "               nan], dtype=float32),\n",
       "  array([0.6364815 , 0.49748987,        nan, ..., 0.809543  ,        nan,\n",
       "                nan], dtype=float32)],\n",
       " [array([0.66413844, 0.50104654,        nan, ..., 0.68848264,        nan,\n",
       "                nan], dtype=float32),\n",
       "  array([0.5931183, 0.3826557,       nan, ..., 0.5679987,       nan,\n",
       "               nan], dtype=float32),\n",
       "  array([0.8124963, 0.7310513,       nan, ..., 0.7987376,       nan,\n",
       "               nan], dtype=float32),\n",
       "  array([0.6854384, 0.5391432,       nan, ..., 0.7289667,       nan,\n",
       "               nan], dtype=float32),\n",
       "  array([0.63286924, 0.4774666 ,        nan, ..., 0.60693574,        nan,\n",
       "                nan], dtype=float32)],\n",
       " [array([0.46063372, 0.7051783 ,        nan, ..., 0.37818724,        nan,\n",
       "                nan], dtype=float32),\n",
       "  array([0.6327361 , 0.5541637 ,        nan, ..., 0.63426894,        nan,\n",
       "                nan], dtype=float32),\n",
       "  array([0.41448388, 0.7837434 ,        nan, ..., 0.45229864,        nan,\n",
       "                nan], dtype=float32),\n",
       "  array([0.6376686 , 0.75628096,        nan, ..., 0.71864915,        nan,\n",
       "                nan], dtype=float32),\n",
       "  array([0.61860216, 0.6045801 ,        nan, ..., 0.45787162,        nan,\n",
       "                nan], dtype=float32)],\n",
       " [array([0.5337177 , 0.22317798,        nan, ..., 0.24772803,        nan,\n",
       "                nan], dtype=float32),\n",
       "  array([0.6395066 , 0.49975464,        nan, ..., 0.7366962 ,        nan,\n",
       "                nan], dtype=float32),\n",
       "  array([0.48788622, 0.510838  ,        nan, ..., 0.38947937,        nan,\n",
       "                nan], dtype=float32),\n",
       "  array([0.48153254, 0.54292434,        nan, ..., 0.6060087 ,        nan,\n",
       "                nan], dtype=float32),\n",
       "  array([0.625481  , 0.4476772 ,        nan, ..., 0.40258685,        nan,\n",
       "                nan], dtype=float32)],\n",
       " [array([0.4759061 , 0.26663327,        nan, ..., 0.5900852 ,        nan,\n",
       "                nan], dtype=float32),\n",
       "  array([0.6647066 , 0.73279846,        nan, ..., 0.6924599 ,        nan,\n",
       "                nan], dtype=float32),\n",
       "  array([0.36063892, 0.4340431 ,        nan, ..., 0.7879231 ,        nan,\n",
       "                nan], dtype=float32),\n",
       "  array([0.6317286, 0.6049839,       nan, ..., 0.5986871,       nan,\n",
       "               nan], dtype=float32),\n",
       "  array([0.57755953, 0.4486917 ,        nan, ..., 0.7701852 ,        nan,\n",
       "                nan], dtype=float32)]]"
      ]
     },
     "execution_count": 96,
     "metadata": {},
     "output_type": "execute_result"
    }
   ],
   "source": [
    "Ql_result_TimeWindow"
   ]
  },
  {
   "cell_type": "code",
   "execution_count": 81,
   "metadata": {},
   "outputs": [],
   "source": [
    "box_data = to_freud_box(t.atoms.dimensions)\n",
    "pos_data = t.atoms.positions/10 # in nm\n",
    "\n",
    "query_data = pos_data\n",
    "if ref == Metal:\n",
    "    query_data[t.select_atoms(\"name \" + Halide).indices] = np.nan\n",
    "elif ref == Halide:\n",
    "    query_data[t.select_atoms(\"name \" + Metal).indices] = np.nan\n",
    "\n",
    "pos_data = t.atoms.positions/10 # in nm\n",
    "if sel == Metal:\n",
    "    pos_data[t.select_atoms(\"name \" + Halide).indices] = np.nan\n",
    "elif sel == Halide:\n",
    "    pos_data[t.select_atoms(\"name \" + Metal).indices] = np.nan\n",
    "nlist = freud.locality.AABBQuery(box_data, pos_data).query(query_data, query_args).toNeighborList()\n",
    "system = [box_data,pos_data]"
   ]
  },
  {
   "cell_type": "code",
   "execution_count": 83,
   "metadata": {},
   "outputs": [],
   "source": [
    "ql = freud.order.Steinhardt(6)\n",
    "ql_calc = ql.compute(system, neighbors=nlist)"
   ]
  },
  {
   "cell_type": "code",
   "execution_count": 86,
   "metadata": {},
   "outputs": [
    {
     "data": {
      "text/plain": [
       "array([[       nan,        nan,        nan],\n",
       "       [       nan,        nan,        nan],\n",
       "       [0.6569416 , 4.4750824 , 7.492133  ],\n",
       "       ...,\n",
       "       [       nan,        nan,        nan],\n",
       "       [2.4688802 , 1.7305281 , 9.3772955 ],\n",
       "       [2.012919  , 1.1519091 , 0.25193465]], dtype=float32)"
      ]
     },
     "execution_count": 86,
     "metadata": {},
     "output_type": "execute_result"
    }
   ],
   "source": [
    "pos_data"
   ]
  },
  {
   "cell_type": "code",
   "execution_count": 71,
   "metadata": {},
   "outputs": [],
   "source": [
    "ref = 'I'\n",
    "sel = 'Li'\n",
    "box_data = to_freud_box(t.atoms.dimensions)\n",
    "\n",
    "query_data = t.atoms.positions/10 # in nm\n",
    "if ref == Metal:\n",
    "    query_data[t.select_atoms(\"name \" + Halide).indices] = np.nan\n",
    "elif ref == Halide:\n",
    "    query_data[t.select_atoms(\"name \" + Metal).indices] = np.nan\n",
    "\n",
    "pos_data = t.atoms.positions/10 # in nm\n",
    "if sel == Metal:\n",
    "    pos_data[t.select_atoms(\"name \" + Halide).indices] = np.nan\n",
    "elif sel == Halide:\n",
    "    pos_data[t.select_atoms(\"name \" + Metal).indices] = np.nan\n",
    "\n",
    "nlist = freud.locality.AABBQuery(box_data, pos_data).query(query_data, query_args).toNeighborList()"
   ]
  },
  {
   "cell_type": "code",
   "execution_count": 72,
   "metadata": {},
   "outputs": [
    {
     "data": {
      "text/plain": [
       "7470"
      ]
     },
     "execution_count": 72,
     "metadata": {},
     "output_type": "execute_result"
    }
   ],
   "source": [
    "len(nlist)"
   ]
  },
  {
   "cell_type": "code",
   "execution_count": 46,
   "metadata": {},
   "outputs": [],
   "source": [
    "list1 = test.query_point_indices\n",
    "list2 = t.select_atoms(\"name \" + Metal).indices"
   ]
  },
  {
   "cell_type": "code",
   "execution_count": 49,
   "metadata": {},
   "outputs": [
    {
     "data": {
      "text/plain": [
       "[(0, 0), (1, 0), (2, 0), (3, 1), (4, 1), (5, 1), (6, 1)]"
      ]
     },
     "execution_count": 49,
     "metadata": {},
     "output_type": "execute_result"
    }
   ],
   "source": [
    "list(find_matching_index(list1, list2))"
   ]
  },
  {
   "cell_type": "code",
   "execution_count": 43,
   "metadata": {},
   "outputs": [],
   "source": [
    "from itertools import groupby, product\n",
    "\n",
    "def find_matching_index(list1, list2):\n",
    "    sorted_list1 = sorted((element, index) for index, element in enumerate(list1))\n",
    "    sorted_list2 = sorted((element, index) for index, element in enumerate(list2))\n",
    "\n",
    "    list1_groups = groupby(sorted_list1, key=lambda pair: pair[0])\n",
    "    list2_groups = groupby(sorted_list2, key=lambda pair: pair[0])\n",
    "\n",
    "    for element1, group1 in list1_groups:\n",
    "        try:\n",
    "            element2, group2 = next(list2_groups)\n",
    "            while element1 > element2:\n",
    "                (element2, _), group2 = next(list2_groups)\n",
    "\n",
    "        except StopIteration:\n",
    "            break\n",
    "\n",
    "        if element2 > element1:\n",
    "            continue\n",
    "\n",
    "        indices_product = product((i for _, i in group1), (i for _, i in group2), repeat=1)\n",
    "\n",
    "        yield from indices_product\n",
    "\n",
    "        # In version prior to 3.3, the above line must be\n",
    "        # for x in indices_product:\n",
    "        #     yield x"
   ]
  },
  {
   "cell_type": "code",
   "execution_count": 25,
   "metadata": {},
   "outputs": [
    {
     "data": {
      "text/plain": [
       "[array([0.50250506, 0.4971732 , 0.4665336 , ..., 0.49804145, 0.4987644 ,\n",
       "        0.5260273 ], dtype=float32),\n",
       " array([0.38869458, 0.39335227, 0.7437574 , ..., 0.44217184, 0.45562416,\n",
       "        0.7896274 ], dtype=float32),\n",
       " array([0.72089237, 0.7248564 , 0.46040484, ..., 0.66047955, 0.65327877,\n",
       "        0.6696486 ], dtype=float32),\n",
       " array([0.5502479 , 0.54052925, 0.6351492 , ..., 0.5898071 , 0.5610934 ,\n",
       "        0.7026457 ], dtype=float32),\n",
       " array([0.48897156, 0.4910056 , 0.53697693, ..., 0.5478852 , 0.6012521 ,\n",
       "        0.74240613], dtype=float32)]"
      ]
     },
     "execution_count": 25,
     "metadata": {},
     "output_type": "execute_result"
    }
   ],
   "source": [
    "Ql_result_TimeWindow[0]"
   ]
  },
  {
   "cell_type": "code",
   "execution_count": 142,
   "metadata": {},
   "outputs": [],
   "source": []
  },
  {
   "cell_type": "code",
   "execution_count": 125,
   "metadata": {},
   "outputs": [
    {
     "data": {
      "text/plain": [
       "freud.box.Box(Lx=5.980443477630615, Ly=5.179215908050537, Lz=0.027959760278463364, xy=-0.5773491263389587, xz=-1.5137563423195388e-05, yz=-2.6219006031169556e-05, is2D=False)"
      ]
     },
     "execution_count": 125,
     "metadata": {},
     "output_type": "execute_result"
    }
   ],
   "source": [
    "freud.box.Box.from_matrix(Transform_Matrix)"
   ]
  },
  {
   "cell_type": "code",
   "execution_count": 126,
   "metadata": {},
   "outputs": [
    {
     "data": {
      "text/plain": [
       "[freud.box.Box(Lx=5.9830522537231445, Ly=5.181475639343262, Lz=9.68688678741455, xy=-0.5773491263389587, xz=0.0, yz=0.0, is2D=False)]"
      ]
     },
     "execution_count": 126,
     "metadata": {},
     "output_type": "execute_result"
    }
   ],
   "source": [
    "box_data1"
   ]
  },
  {
   "cell_type": "code",
   "execution_count": 14,
   "metadata": {},
   "outputs": [
    {
     "name": "stdout",
     "output_type": "stream",
     "text": [
      "[[ 24.109861  16.467905  50.141663]\n",
      " [ 31.622145  35.063156  73.200195]\n",
      " [  8.413509  47.07795   73.69831 ]\n",
      " ...\n",
      " [-12.614388  32.464363   8.955413]\n",
      " [ 18.321766  17.983376   1.769746]\n",
      " [ 17.683746   9.003531  95.0759  ]]\n",
      "[[18.313562  17.179104  53.55078  ]\n",
      " [29.93732   31.021767  72.94626  ]\n",
      " [ 6.569416  44.750824  74.92133  ]\n",
      " ...\n",
      " [45.67156   16.662615  12.522508 ]\n",
      " [24.6888    17.30528   93.77296  ]\n",
      " [20.129189  11.519091   2.5193465]]\n"
     ]
    }
   ],
   "source": [
    "for ts in u.trajectory[list(time_slice)]:\n",
    "    time = u.trajectory.time\n",
    "    pos = u.atoms.positions\n",
    "    MDAnalysis.analysis.rdf.InterRDF_s(u, ags, nbins=75, range=(0.0, 1.0), density=False, **kwargs)\n",
    "    print(time)"
   ]
  },
  {
   "cell_type": "code",
   "execution_count": 15,
   "metadata": {},
   "outputs": [
    {
     "name": "stdout",
     "output_type": "stream",
     "text": [
      "Object ` MDAnalysis.analysis.rdf.InterRDF_s` not found.\n"
     ]
    }
   ],
   "source": [
    "? MDAnalysis.analysis.rdf.InterRDF_s"
   ]
  },
  {
   "cell_type": "code",
   "execution_count": 79,
   "metadata": {},
   "outputs": [
    {
     "name": "stdout",
     "output_type": "stream",
     "text": [
      "[[18.484808  15.178305  50.446854 ]\n",
      " [29.47482   32.140747  73.379585 ]\n",
      " [ 7.7312727 46.464844  75.27986  ]\n",
      " [22.408484  39.285313  83.13495  ]\n",
      " [15.310526  19.247868  55.195816 ]\n",
      " [ 8.726223  13.410156   8.362709 ]\n",
      " [ 5.742812  13.412851  73.780045 ]\n",
      " [ 9.824606  38.73055    3.7045982]\n",
      " [45.924576  18.853662  58.698963 ]\n",
      " [24.651297  50.751614  48.81277  ]]\n",
      "[[18.313562  17.179104  53.55078  ]\n",
      " [29.93732   31.021767  72.94626  ]\n",
      " [ 6.569416  44.750824  74.92133  ]\n",
      " [24.496067  38.638317  82.48611  ]\n",
      " [19.161148  22.023293  53.006557 ]\n",
      " [ 8.148205  13.601327  12.609747 ]\n",
      " [ 4.327055  14.74031   75.07898  ]\n",
      " [ 9.159589  39.68947    3.9194245]\n",
      " [46.955482  17.486584  55.732178 ]\n",
      " [23.347586  50.075077  46.491894 ]]\n"
     ]
    }
   ],
   "source": [
    "for t in time_slice:\n",
    "    print(u.trajectory[t][0:10])"
   ]
  },
  {
   "cell_type": "code",
   "execution_count": 45,
   "metadata": {},
   "outputs": [
    {
     "data": {
      "text/plain": [
       "< Timestep 0 with unit cell dimensions [ 50.075897  50.075874  81.0756    90.        90.       119.999954] >"
      ]
     },
     "execution_count": 45,
     "metadata": {},
     "output_type": "execute_result"
    }
   ],
   "source": [
    "test.trajectory[0]"
   ]
  },
  {
   "cell_type": "markdown",
   "metadata": {},
   "source": [
    "# RDF with `mdtraj` and `Freud`"
   ]
  },
  {
   "cell_type": "code",
   "execution_count": 2,
   "metadata": {},
   "outputs": [],
   "source": [
    "import mdtraj as md\n",
    "import numpy as np\n",
    "import freud\n",
    "import glob\n",
    "import matplotlib.pyplot as plt"
   ]
  },
  {
   "cell_type": "code",
   "execution_count": 3,
   "metadata": {},
   "outputs": [],
   "source": [
    "testdir = 'C:\\\\Users\\\\Hayden\\\\Documents\\\\Patey_Lab\\\\Results\\\\LiI\\\\Step_W_JC_NPT\\\\'\n",
    "topology = glob.glob(testdir + '*.gro')[0]\n",
    "trajectory = glob.glob(testdir + '*.trr')[0] # this can be a trr or xtc file\n",
    "t = md.load(trajectory, top=topology)"
   ]
  },
  {
   "cell_type": "code",
   "execution_count": 201,
   "metadata": {},
   "outputs": [
    {
     "data": {
      "text/plain": [
       "array([0., 2., 4.], dtype=float32)"
      ]
     },
     "execution_count": 201,
     "metadata": {},
     "output_type": "execute_result"
    }
   ],
   "source": [
    "t[range(0,6,2)].time"
   ]
  },
  {
   "cell_type": "code",
   "execution_count": 205,
   "metadata": {},
   "outputs": [
    {
     "data": {
      "text/plain": [
       "14169826"
      ]
     },
     "execution_count": 205,
     "metadata": {},
     "output_type": "execute_result"
    }
   ],
   "source": [
    "pairs = t[-1].top.select_pairs('all', 'all')\n",
    "len(pairs)"
   ]
  },
  {
   "cell_type": "code",
   "execution_count": 224,
   "metadata": {},
   "outputs": [],
   "source": [
    "rdf_x, rdf_y = md.geometry.rdf.compute_rdf(t[-1], pairs, periodic=True)"
   ]
  },
  {
   "cell_type": "code",
   "execution_count": 284,
   "metadata": {},
   "outputs": [],
   "source": [
    "from scipy.ndimage import gaussian_filter1d\n",
    "rdf_yp = gaussian_filter1d(rdf_y, 6)"
   ]
  },
  {
   "cell_type": "code",
   "execution_count": 289,
   "metadata": {},
   "outputs": [],
   "source": [
    "from scipy.signal import argrelextrema\n",
    "locmin = argrelextrema(rdf_yp, np.less) # local minima"
   ]
  },
  {
   "cell_type": "code",
   "execution_count": 290,
   "metadata": {},
   "outputs": [],
   "source": [
    "smooth_d2 = np.gradient(np.gradient(rdf_yp))\n",
    "infls = np.where(np.diff(np.sign(smooth_d2)))[0]"
   ]
  },
  {
   "cell_type": "code",
   "execution_count": 292,
   "metadata": {},
   "outputs": [
    {
     "data": {
      "text/plain": [
       "[<matplotlib.lines.Line2D at 0x16dc8ce7108>]"
      ]
     },
     "execution_count": 292,
     "metadata": {},
     "output_type": "execute_result"
    },
    {
     "data": {
      "image/png": "[encoded data removed]",
      "text/plain": [
       "<Figure size 864x576 with 1 Axes>"
      ]
     },
     "metadata": {
      "needs_background": "light"
     },
     "output_type": "display_data"
    }
   ],
   "source": [
    "fig, ax = plt.subplots(1, 1, figsize=(12, 8))\n",
    "ax.plot(rdf_x, rdf_yp, label='rdf')\n",
    "ax.plot(rdf_x[locmin[0]],rdf_yp[locmin[0]],label='locmin')\n",
    "ax.plot(rdf_x[infls],rdf_yp[infls],label='locmin')"
   ]
  },
  {
   "cell_type": "code",
   "execution_count": 162,
   "metadata": {},
   "outputs": [],
   "source": [
    "M_index = t.topology.select('element Li')\n",
    "X_index = t.topology.select('element I')\n",
    "All_pos = t.xyz\n",
    "M_pos = t.xyz[M_index]\n",
    "X_pos = t.xyz[X_index]"
   ]
  },
  {
   "cell_type": "code",
   "execution_count": null,
   "metadata": {},
   "outputs": [],
   "source": [
    "nlist = freud.locality.AABBQuery(box_data_final, pos_data_final).query(pos_data_final, query_args).toNeighborList()"
   ]
  },
  {
   "cell_type": "code",
   "execution_count": 4,
   "metadata": {},
   "outputs": [
    {
     "ename": "NameError",
     "evalue": "name 'pairs' is not defined",
     "output_type": "error",
     "traceback": [
      "\u001b[1;31m---------------------------------------------------------------------------\u001b[0m",
      "\u001b[1;31mNameError\u001b[0m                                 Traceback (most recent call last)",
      "\u001b[1;32m<ipython-input-4-361d09c781a4>\u001b[0m in \u001b[0;36m<module>\u001b[1;34m\u001b[0m\n\u001b[1;32m----> 1\u001b[1;33m \u001b[0mrdf_out\u001b[0m \u001b[1;33m=\u001b[0m \u001b[0mmd\u001b[0m\u001b[1;33m.\u001b[0m\u001b[0mcompute_rdf\u001b[0m\u001b[1;33m(\u001b[0m\u001b[0mt\u001b[0m\u001b[1;33m,\u001b[0m \u001b[0mpairs\u001b[0m\u001b[1;33m,\u001b[0m \u001b[0mr_range\u001b[0m\u001b[1;33m=\u001b[0m\u001b[1;32mNone\u001b[0m\u001b[1;33m,\u001b[0m \u001b[0mbin_width\u001b[0m\u001b[1;33m=\u001b[0m\u001b[1;36m0.005\u001b[0m\u001b[1;33m,\u001b[0m \u001b[0mn_bins\u001b[0m\u001b[1;33m=\u001b[0m\u001b[1;32mNone\u001b[0m\u001b[1;33m,\u001b[0m \u001b[0mperiodic\u001b[0m\u001b[1;33m=\u001b[0m\u001b[1;32mTrue\u001b[0m\u001b[1;33m,\u001b[0m \u001b[0mopt\u001b[0m\u001b[1;33m=\u001b[0m\u001b[1;32mTrue\u001b[0m\u001b[1;33m)\u001b[0m\u001b[1;33m\u001b[0m\u001b[1;33m\u001b[0m\u001b[0m\n\u001b[0m",
      "\u001b[1;31mNameError\u001b[0m: name 'pairs' is not defined"
     ]
    }
   ],
   "source": [
    "rdf_out = md.compute_rdf(t, pairs, r_range=None, bin_width=0.005, n_bins=None, periodic=True, opt=True)\n"
   ]
  },
  {
   "cell_type": "markdown",
   "metadata": {},
   "source": [
    "## Speed test: RDF with `Freud` vs `mdtraj` for 1, 10, and 100 frames"
   ]
  },
  {
   "cell_type": "code",
   "execution_count": 121,
   "metadata": {},
   "outputs": [],
   "source": [
    "# First load data and libraries\n",
    "import mdtraj as md\n",
    "import numpy as np\n",
    "import freud\n",
    "import glob\n",
    "import matplotlib.pyplot as plt\n",
    "import time\n",
    "\n",
    "testdir = 'C:\\\\Users\\\\Hayden\\\\Documents\\\\Patey_Lab\\\\Results\\\\LiI\\\\Step_W_JC_NPT\\\\'\n",
    "topology = glob.glob(testdir + '*.gro')[0]\n",
    "trajectory = glob.glob(testdir + '*.trr')[0] # this can be a trr or xtc file\n",
    "t = md.load(trajectory, top=topology)"
   ]
  },
  {
   "cell_type": "code",
   "execution_count": 4,
   "metadata": {},
   "outputs": [
    {
     "data": {
      "text/plain": [
       "[29900]"
      ]
     },
     "execution_count": 4,
     "metadata": {},
     "output_type": "execute_result"
    }
   ],
   "source": [
    "list(range(29900,29901,1))"
   ]
  },
  {
   "cell_type": "code",
   "execution_count": 186,
   "metadata": {},
   "outputs": [
    {
     "name": "stdout",
     "output_type": "stream",
     "text": [
      "mdtraj, 1 time slice: 1.8519984000004115 s\n",
      "mdtraj, 10 time slice: 17.307453899999928 s\n",
      "mdtraj, 10 time slice: 170.6337048000005 s\n"
     ]
    },
    {
     "data": {
      "text/plain": [
       "<matplotlib.legend.Legend at 0x22c07cde748>"
      ]
     },
     "execution_count": 186,
     "metadata": {},
     "output_type": "execute_result"
    },
    {
     "data": {
      "image/png": "[encoded data removed]",
      "text/plain": [
       "<Figure size 864x576 with 1 Axes>"
      ]
     },
     "metadata": {
      "needs_background": "light"
     },
     "output_type": "display_data"
    }
   ],
   "source": [
    "# Test 1: mdtraj\n",
    "time_slice1 = list(range(29900,29901,1))\n",
    "time_slice2 = list(range(29900,29910,1))\n",
    "time_slice3 = list(range(29900,30000,1))\n",
    "rrange = [0,1]\n",
    "bins = 200\n",
    "\n",
    "# test 1a: 1 time point\n",
    "pairs = t[time_slice1].top.select_pairs('all', 'all')\n",
    "start = time.perf_counter()\n",
    "rdf1_x, rdf1_y = md.geometry.rdf.compute_rdf(t[time_slice1], pairs, periodic=True, r_range=rrange, n_bins=bins)\n",
    "end = time.perf_counter()\n",
    "print('mdtraj, 1 time slice: ' + str(end - start) + ' s')\n",
    "\n",
    "# test 1b: 10 time point\n",
    "pairs = t[time_slice2].top.select_pairs('all', 'all')\n",
    "start = time.perf_counter()\n",
    "rdf2_x, rdf2_y = md.geometry.rdf.compute_rdf(t[time_slice2], pairs, periodic=True, r_range=rrange, n_bins=bins)\n",
    "end = time.perf_counter()\n",
    "print('mdtraj, 10 time slice: ' + str(end - start) + ' s')\n",
    "\n",
    "# test 1c: 100 time point\n",
    "pairs = t[time_slice3].top.select_pairs('all', 'all')\n",
    "start = time.perf_counter()\n",
    "rdf3_x, rdf3_y = md.geometry.rdf.compute_rdf(t[time_slice3], pairs, periodic=True, r_range=rrange, n_bins=bins)\n",
    "end = time.perf_counter()\n",
    "print('mdtraj, 10 time slice: ' + str(end - start) + ' s')\n",
    "\n",
    "fig, ax = plt.subplots(1, 1, figsize=(12, 8))\n",
    "ax.set_title('mdtraj RDF', fontsize=16)\n",
    "ax.plot(rdf1_x, rdf1_y, label='1 Time Slice')\n",
    "ax.plot(rdf2_x, rdf2_y, label='10 Time Slice')\n",
    "ax.plot(rdf3_x, rdf3_y, label='100 Time Slice')\n",
    "ax.legend()"
   ]
  },
  {
   "cell_type": "code",
   "execution_count": 187,
   "metadata": {},
   "outputs": [
    {
     "name": "stdout",
     "output_type": "stream",
     "text": [
      "Freud, 1 time slice: 0.010613000000375905 s\n",
      "Freud, 10 time slice: 0.09681490000002668 s\n",
      "Freud, 100 time slice: 1.058733800000482 s\n"
     ]
    },
    {
     "data": {
      "text/plain": [
       "<matplotlib.legend.Legend at 0x22c07ca5648>"
      ]
     },
     "execution_count": 187,
     "metadata": {},
     "output_type": "execute_result"
    },
    {
     "data": {
      "image/png": "[encoded data removed]",
      "text/plain": [
       "<Figure size 864x576 with 1 Axes>"
      ]
     },
     "metadata": {
      "needs_background": "light"
     },
     "output_type": "display_data"
    }
   ],
   "source": [
    "# Test 2: Freud\n",
    "time_slice1 = list(range(29900,29901,1))\n",
    "time_slice2 = list(range(29900,29910,1))\n",
    "time_slice3 = list(range(29900,30000,1))\n",
    "rrange = [0,1]\n",
    "bins = 200\n",
    "\n",
    "box_data1 = []\n",
    "for cell_mat in t[time_slice1].unitcell_vectors:\n",
    "    box_data1.append(freud.box.Box.from_matrix(cell_mat.transpose()))\n",
    "\n",
    "# Grab position data from trajectory\n",
    "pos_data1 = t[time_slice1].xyz\n",
    "\n",
    "box_data2 = []\n",
    "for cell_mat in t[time_slice2].unitcell_vectors:\n",
    "    box_data2.append(freud.box.Box.from_matrix(cell_mat.transpose()))\n",
    "\n",
    "# Grab position data from trajectory\n",
    "pos_data2 = t[time_slice2].xyz\n",
    "\n",
    "box_data3 = []\n",
    "for cell_mat in t[time_slice3].unitcell_vectors:\n",
    "    box_data3.append(freud.box.Box.from_matrix(cell_mat.transpose()))\n",
    "\n",
    "# Grab position data from trajectory\n",
    "pos_data3 = t[time_slice3].xyz\n",
    "\n",
    "# Set up RDF\n",
    "bins=200\n",
    "r_max=0.7\n",
    "\n",
    "start = time.perf_counter()\n",
    "rdf1 = freud.density.RDF(bins, r_max)\n",
    "for box, points in zip(box_data1, pos_data1):\n",
    "    rdf1.compute(system=(box, points), reset=False)\n",
    "end = time.perf_counter()\n",
    "print('Freud, 1 time slice: ' + str(end - start) + ' s')\n",
    "\n",
    "start = time.perf_counter()\n",
    "rdf2 = freud.density.RDF(bins, r_max)\n",
    "for box, points in zip(box_data2, pos_data2):\n",
    "    rdf2.compute(system=(box, points), reset=False)\n",
    "end = time.perf_counter()\n",
    "print('Freud, 10 time slice: ' + str(end - start) + ' s')\n",
    "\n",
    "start = time.perf_counter()\n",
    "rdf3 = freud.density.RDF(bins, r_max)\n",
    "for box, points in zip(box_data3, pos_data3):\n",
    "    rdf3.compute(system=(box, points), reset=False)\n",
    "end = time.perf_counter()\n",
    "print('Freud, 100 time slice: ' + str(end - start) + ' s')\n",
    "\n",
    "\n",
    "fig, ax = plt.subplots(1, 1, figsize=(12, 8))\n",
    "ax.set_title('Freud RDF', fontsize=16)\n",
    "ax.plot(rdf1.bin_centers, getattr(rdf1, 'rdf'), label='1 Time Slice')\n",
    "ax.plot(rdf2.bin_centers, getattr(rdf2, 'rdf'), label='10 Time Slice')\n",
    "ax.plot(rdf3.bin_centers, getattr(rdf3, 'rdf'), label='100 Time Slice')\n",
    "ax.legend()"
   ]
  },
  {
   "cell_type": "code",
   "execution_count": 208,
   "metadata": {},
   "outputs": [
    {
     "data": {
      "text/plain": [
       "array([ 59.804436,  59.804405,  96.82663 ,  90.      ,  90.      ,\n",
       "       119.999954], dtype=float32)"
      ]
     },
     "execution_count": 208,
     "metadata": {},
     "output_type": "execute_result"
    }
   ],
   "source": [
    "u.atoms.dimensions"
   ]
  },
  {
   "cell_type": "markdown",
   "metadata": {},
   "source": [
    "# RDF with `Freud`"
   ]
  },
  {
   "cell_type": "code",
   "execution_count": null,
   "metadata": {},
   "outputs": [],
   "source": [
    "def plot_rdf(box_arr, points_arr, prop, r_max=1, bins=200, label=None, ax=None, title='rdf', newplot=False):\n",
    "    \"\"\"Helper function for plotting RDFs.\"\"\"\n",
    "    if ax is None:\n",
    "        fig, ax = plt.subplots(1, 1, figsize=(12, 8))\n",
    "        \n",
    "    ax.set_title(title, fontsize=16)\n",
    "    rdf = freud.density.RDF(bins, r_max)\n",
    "    for box, points in zip(box_arr, points_arr):\n",
    "        rdf.compute(system=(box, points), reset=newplot)\n",
    "    if label is not None:\n",
    "        ax.plot(rdf.bin_centers, getattr(rdf, prop), label=label)\n",
    "        ax.legend()\n",
    "    else:\n",
    "        ax.plot(rdf.bin_centers, getattr(rdf, prop))\n",
    "    return ax"
   ]
  },
  {
   "cell_type": "code",
   "execution_count": 4,
   "metadata": {},
   "outputs": [],
   "source": [
    "# Convert each set of box vectors into a freud \"box\" object (one for each time point)\n",
    "# Note that the transpose is required!\n",
    "box_data = []\n",
    "for cell_mat in t.unitcell_vectors:\n",
    "    box_data.append(freud.box.Box.from_matrix(cell_mat.transpose()))\n",
    "\n",
    "# Grab position data from trajectory\n",
    "pos_data = t.xyz"
   ]
  },
  {
   "cell_type": "code",
   "execution_count": 6,
   "metadata": {},
   "outputs": [
    {
     "data": {
      "image/png": "[encoded data removed]",
      "text/plain": [
       "<Figure size 864x576 with 1 Axes>"
      ]
     },
     "metadata": {
      "needs_background": "light"
     },
     "output_type": "display_data"
    }
   ],
   "source": [
    "# Compute the All-All RDF for the last frame\n",
    "box_arr = [box_data[-1]]\n",
    "pos_arr = [pos_data[-1]]\n",
    "ax = plot_rdf(box_arr, pos_arr, 'rdf', label='One frame')\n",
    "\n",
    "# Compute the All-All RDF for the last 20 frames\n",
    "box_arr = [box for box in box_data[-20:]]\n",
    "pos_arr = pos_data[-20:]\n",
    "ax = plot_rdf(box_arr, pos_arr, 'rdf', label='Last 20 frames', ax=ax, title='All-All RDF')\n",
    "\n",
    "plt.show()"
   ]
  },
  {
   "cell_type": "code",
   "execution_count": 7,
   "metadata": {},
   "outputs": [],
   "source": [
    "# Grab the separate element indexes\n",
    "M_index = [atom.index for atom in t.topology.atoms if atom.element.symbol is 'Li']\n",
    "X_index = [atom.index for atom in t.topology.atoms if atom.element.symbol is 'I']"
   ]
  },
  {
   "cell_type": "code",
   "execution_count": 8,
   "metadata": {},
   "outputs": [],
   "source": [
    "# Separate out M and X at each time point\n",
    "M_pos_data = []\n",
    "for pos in pos_data:\n",
    "    M_pos_data.append(pos[M_index])\n",
    "    \n",
    "X_pos_data = []\n",
    "for pos in pos_data:\n",
    "    X_pos_data.append(pos[X_index])"
   ]
  },
  {
   "cell_type": "code",
   "execution_count": 9,
   "metadata": {},
   "outputs": [
    {
     "data": {
      "image/png": "[encoded data removed]",
      "text/plain": [
       "<Figure size 864x576 with 1 Axes>"
      ]
     },
     "metadata": {
      "needs_background": "light"
     },
     "output_type": "display_data"
    }
   ],
   "source": [
    "# Compute the Li-Li RDF for the last frame\n",
    "box_arr = [box_data[-1]]\n",
    "pos_arr = [M_pos_data[-1]]\n",
    "ax = plot_rdf(box_arr, pos_arr, 'rdf', label='One frame', newplot=True)\n",
    "\n",
    "# Compute the Li-Li RDF for the last 20 frames\n",
    "box_arr = [box for box in box_data[-20:]]\n",
    "pos_arr = M_pos_data[-20:]\n",
    "ax = plot_rdf(box_arr, pos_arr, 'rdf', label='Last 20 frames', ax=ax, title='Li-Li RDF', newplot=False)\n",
    "\n",
    "plt.show()"
   ]
  },
  {
   "cell_type": "code",
   "execution_count": 28,
   "metadata": {},
   "outputs": [],
   "source": [
    "# Grab the separate element indexes\n",
    "M_index = [atom.index for atom in t.topology.atoms if atom.element.symbol is 'Li']\n",
    "X_index = [atom.index for atom in t.topology.atoms if atom.element.symbol is 'I']\n",
    "\n",
    "M_Points = pos_data[-1][M_index]\n",
    "X_points = pos_data[-1][X_index]\n",
    "box = box_data[-1]\n",
    "\n",
    "aq = freud.locality.AABBQuery(box, X_points)\n",
    "query_result = aq.query(M_Points, dict(num_neighbors=4))"
   ]
  },
  {
   "cell_type": "code",
   "execution_count": 31,
   "metadata": {},
   "outputs": [],
   "source": [
    "nlist = query_result.toNeighborList()"
   ]
  },
  {
   "cell_type": "code",
   "execution_count": 38,
   "metadata": {},
   "outputs": [],
   "source": [
    "distances = []\n",
    "for (i, j) in nlist:\n",
    "    # Note that we have to wrap the bond vector before taking the norm;\n",
    "    # this is the simplest way to compute distances in a periodic system.\n",
    "    distances.append(np.linalg.norm(box.wrap(M_Points[i] - X_points[j])))"
   ]
  },
  {
   "cell_type": "markdown",
   "metadata": {},
   "source": [
    "# Calculation of Ql/Wl Order Parameters with `Freud` and `mdtraj`\n",
    "\n",
    "## 1. Import the trajectory and topology"
   ]
  },
  {
   "cell_type": "code",
   "execution_count": 1,
   "metadata": {},
   "outputs": [],
   "source": [
    "import mdtraj as md\n",
    "import numpy as np\n",
    "import freud\n",
    "import glob\n",
    "import matplotlib.pyplot as plt"
   ]
  },
  {
   "cell_type": "code",
   "execution_count": 2,
   "metadata": {},
   "outputs": [],
   "source": [
    "testdir = 'C:\\\\Users\\\\Hayden\\\\Documents\\\\Patey_Lab\\\\Results\\\\LiI\\\\Step_W_JC_NPT\\\\'\n",
    "topology = glob.glob(testdir + '*.gro')[0]\n",
    "trajectory = glob.glob(testdir + '*.trr')[0] # this can be a trr or xtc file\n",
    "t = md.load(trajectory, top=topology)"
   ]
  },
  {
   "cell_type": "markdown",
   "metadata": {},
   "source": [
    "## 2. Select out the M and X indices"
   ]
  },
  {
   "cell_type": "code",
   "execution_count": 3,
   "metadata": {},
   "outputs": [],
   "source": [
    "# Grab the separate element indexes\n",
    "M_index = [atom.index for atom in t.topology.atoms if atom.element.symbol is 'Li']\n",
    "X_index = [atom.index for atom in t.topology.atoms if atom.element.symbol is 'I']"
   ]
  },
  {
   "cell_type": "markdown",
   "metadata": {},
   "source": [
    "## 3. Create Box objects in `freud`"
   ]
  },
  {
   "cell_type": "code",
   "execution_count": 4,
   "metadata": {},
   "outputs": [],
   "source": [
    "# Convert each set of box vectors into a freud \"box\" object (one for each time point)\n",
    "# Note that the transpose is required!\n",
    "box_data = []\n",
    "for cell_mat in t.unitcell_vectors:\n",
    "    box_data.append(freud.box.Box.from_matrix(cell_mat.transpose()))\n",
    "\n",
    "# Grab position data from trajectory\n",
    "pos_data = t.xyz"
   ]
  },
  {
   "cell_type": "markdown",
   "metadata": {},
   "source": [
    "## 4. Select the time point of interest (final frame)"
   ]
  },
  {
   "cell_type": "code",
   "execution_count": 5,
   "metadata": {},
   "outputs": [],
   "source": [
    "box_data_final = box_data[-1]\n",
    "pos_data_final = pos_data[-1]\n",
    "pos_data_final_M = pos_data_final[M_index]\n",
    "pos_data_final_X = pos_data_final[X_index]"
   ]
  },
  {
   "cell_type": "markdown",
   "metadata": {},
   "source": [
    "## 5. Create the appropriate neighbour list with `freud`"
   ]
  },
  {
   "cell_type": "code",
   "execution_count": 6,
   "metadata": {},
   "outputs": [],
   "source": [
    "query_args = dict(mode='ball', r_min=0, r_max=0.3675, exclude_ii=True)\n",
    "nlist = freud.locality.AABBQuery(box_data_final, pos_data_final).query(pos_data_final, query_args).toNeighborList()"
   ]
  },
  {
   "cell_type": "markdown",
   "metadata": {},
   "source": [
    "## 5.1 Removing X from the query points of the neighbourlist\n",
    "Use the code below to filer out all the X-X and X-M parts of the neighbour list"
   ]
  },
  {
   "cell_type": "code",
   "execution_count": 7,
   "metadata": {},
   "outputs": [
    {
     "data": {
      "text/plain": [
       "array([ 0,  0,  0,  0,  0,  0,  1,  1,  1,  1,  2,  2,  2,  3,  3,  3,  4,\n",
       "        4,  4,  5,  5,  5,  6,  6,  6,  7,  7,  7,  8,  8,  9,  9,  9, 10,\n",
       "       10, 10, 10, 11, 11, 11, 11, 12, 12, 12, 12, 13, 13, 13, 14, 14],\n",
       "      dtype=uint32)"
      ]
     },
     "execution_count": 7,
     "metadata": {},
     "output_type": "execute_result"
    }
   ],
   "source": [
    "nlist.query_point_indices[0:50]"
   ]
  },
  {
   "cell_type": "code",
   "execution_count": 141,
   "metadata": {},
   "outputs": [],
   "source": [
    "# Finding the indices of the neighbourlist that correspond to queries at X\n",
    "X_query_indeces = [index for index, item in enumerate(nlist.query_point_indices) if item in set(X_index)]\n",
    "\n",
    "# Convert the index list into a boolean list where True entries correspond to queries at M\n",
    "# and False entries are queries at X\n",
    "X_bonds_ind = np.array([True] * len(nlist.query_point_indices))\n",
    "X_bonds_ind[X_query_indeces] = False\n",
    "\n",
    "# Remove the queries at X from the list\n",
    "nlist.filter(X_bonds_ind);"
   ]
  },
  {
   "cell_type": "code",
   "execution_count": 142,
   "metadata": {},
   "outputs": [
    {
     "data": {
      "text/plain": [
       "array([0, 0, 0, 0, 0, 0, 0, 0, 0, 0, 0, 0, 1, 1, 1, 1, 1, 1, 1, 1, 4, 4,\n",
       "       4, 4, 4, 4, 4, 4, 4, 4, 4, 5, 5, 5, 5, 5, 5, 5, 8, 8, 8, 8, 8, 8,\n",
       "       8, 9, 9, 9, 9, 9], dtype=uint32)"
      ]
     },
     "execution_count": 142,
     "metadata": {},
     "output_type": "execute_result"
    }
   ],
   "source": [
    "nlist.query_point_indices[0:50]"
   ]
  },
  {
   "cell_type": "markdown",
   "metadata": {},
   "source": [
    "## 5.2 Removing M from the query points of the neighbourlist\n",
    "Use the code below to filer out all the M-X and M-M parts of the neighbour list"
   ]
  },
  {
   "cell_type": "code",
   "execution_count": 125,
   "metadata": {},
   "outputs": [
    {
     "data": {
      "text/plain": [
       "array([ 0,  0,  0,  0,  0,  0,  0,  0,  1,  1,  1,  1,  1,  4,  4,  4,  4,\n",
       "        4,  5,  5,  5,  8,  8,  8,  9,  9,  9, 12, 12, 12, 12, 13, 13, 13,\n",
       "       16, 16, 16, 16, 17, 17, 17, 17, 20, 20, 20, 20, 20, 21, 21, 21],\n",
       "      dtype=uint32)"
      ]
     },
     "execution_count": 125,
     "metadata": {},
     "output_type": "execute_result"
    }
   ],
   "source": [
    "nlist.query_point_indices[0:50]"
   ]
  },
  {
   "cell_type": "code",
   "execution_count": 126,
   "metadata": {},
   "outputs": [],
   "source": [
    "# Finding the indices of the neighbourlist that correspond to queries at M\n",
    "M_query_indeces = [index for index, item in enumerate(nlist.query_point_indices) if item in set(M_index)]\n",
    "\n",
    "# Convert the index list into a boolean list where True entries correspond to queries at X\n",
    "# and False entries are queries at M\n",
    "M_bonds_ind = np.array([True] * len(nlist.query_point_indices))\n",
    "M_bonds_ind[M_query_indeces] = False\n",
    "\n",
    "# Remove the queries at X from the list\n",
    "nlist.filter(M_bonds_ind);"
   ]
  },
  {
   "cell_type": "code",
   "execution_count": 127,
   "metadata": {},
   "outputs": [
    {
     "data": {
      "text/plain": [
       "array([], dtype=uint32)"
      ]
     },
     "execution_count": 127,
     "metadata": {},
     "output_type": "execute_result"
    }
   ],
   "source": [
    "nlist.query_point_indices[0:50]"
   ]
  },
  {
   "cell_type": "markdown",
   "metadata": {},
   "source": [
    "## 5.3 Removing X from the system points of the neighbourlist\n",
    "Use the code below to filer out all the X-X and M-X parts of the neighbour list"
   ]
  },
  {
   "cell_type": "code",
   "execution_count": 143,
   "metadata": {},
   "outputs": [
    {
     "data": {
      "text/plain": [
       "array([   4,  560, 1103, 1622, 1910, 2381, 2433, 3012, 3531, 4182, 4185,\n",
       "       4956,   40, 1202, 2393, 2441, 3267, 3451, 3586, 4365,    0,  357,\n",
       "       1544, 2084, 2381, 2862, 3382, 3531, 4043, 5138, 5151,  979, 1954,\n",
       "       2114, 2627, 2836, 3929, 4918,  515, 2324, 2563, 2585, 2942, 4459,\n",
       "       5087,  267,  273, 3906, 4161, 5230], dtype=uint32)"
      ]
     },
     "execution_count": 143,
     "metadata": {},
     "output_type": "execute_result"
    }
   ],
   "source": [
    "nlist.point_indices[0:50]"
   ]
  },
  {
   "cell_type": "code",
   "execution_count": 144,
   "metadata": {},
   "outputs": [],
   "source": [
    "# Finding the indices of the neighbourlist that correspond to system points at X, queried from either M or X\n",
    "X_point_indeces = [index for index, item in enumerate(nlist.point_indices) if item in set(X_index)]\n",
    "\n",
    "# Convert the index list into a boolean list where True entries correspond to Any-M neighbours\n",
    "# while False entries are Any-X neighbours\n",
    "X_bonds_ind = np.array([True] * len(nlist.point_indices))\n",
    "X_bonds_ind[X_point_indeces] = False\n",
    "\n",
    "# Remove the queries at M from the list\n",
    "nlist.filter(X_bonds_ind);"
   ]
  },
  {
   "cell_type": "code",
   "execution_count": 145,
   "metadata": {},
   "outputs": [
    {
     "data": {
      "text/plain": [
       "array([   4,  560, 2381, 2433, 3012, 4185, 4956,   40, 2393, 2441, 4365,\n",
       "          0,  357, 1544, 2084, 2381, 2836, 3929, 2324, 2585,  273, 4161,\n",
       "        712, 1676, 2252, 3492, 1549, 1633, 3409, 3909, 3445, 3605,  417,\n",
       "       1196, 1277, 1513, 4368, 5068,  980, 3744, 4708, 1832, 3689, 4332,\n",
       "       4708,  948, 2185, 3060, 2897, 3737], dtype=uint32)"
      ]
     },
     "execution_count": 145,
     "metadata": {},
     "output_type": "execute_result"
    }
   ],
   "source": [
    "nlist.point_indices[0:50]"
   ]
  },
  {
   "cell_type": "markdown",
   "metadata": {},
   "source": [
    "## 5.4 Removing M from the system points of the neighbourlist\n",
    "Use the code below to filer out all the X-M and M-M parts of the neighbour list"
   ]
  },
  {
   "cell_type": "code",
   "execution_count": 135,
   "metadata": {},
   "outputs": [],
   "source": [
    "# Finding the indices of the remaining neighbourlist that correspond to points at M, queried from either M or X\n",
    "M_point_indeces = [index for index, item in enumerate(nlist.point_indices) if item in set(M_index)]\n",
    "\n",
    "# Convert the index list into a boolean list where True entries correspond to M-X neighbours, while False entries are M-M neighbours\n",
    "# and False entries are M-M points\n",
    "M_bonds_ind = np.array([True] * len(nlist.point_indices))\n",
    "M_bonds_ind[M_point_indeces] = False\n",
    "\n",
    "# Remove the queries at M from the list\n",
    "nlist.filter(M_bonds_ind);"
   ]
  },
  {
   "cell_type": "code",
   "execution_count": 136,
   "metadata": {},
   "outputs": [
    {
     "data": {
      "text/plain": [
       "array([], dtype=uint32)"
      ]
     },
     "execution_count": 136,
     "metadata": {},
     "output_type": "execute_result"
    }
   ],
   "source": [
    "nlist.query_point_indices[0:50]"
   ]
  },
  {
   "cell_type": "markdown",
   "metadata": {},
   "source": [
    "## 6. Package up the system for input into Ql"
   ]
  },
  {
   "cell_type": "code",
   "execution_count": 8,
   "metadata": {},
   "outputs": [],
   "source": [
    "system = [box_data_final,pos_data_final]"
   ]
  },
  {
   "cell_type": "code",
   "execution_count": 9,
   "metadata": {},
   "outputs": [
    {
     "data": {
      "text/plain": [
       "[freud.box.Box(Lx=5.980443477630615, Ly=5.179215908050537, Lz=9.682662963867188, xy=-0.577349066734314, xz=0.0, yz=0.0, is2D=False),\n",
       " array([[1.8313562 , 1.7179104 , 5.355078  ],\n",
       "        [2.993732  , 3.1021767 , 7.294626  ],\n",
       "        [0.6569416 , 4.4750824 , 7.492133  ],\n",
       "        ...,\n",
       "        [4.567156  , 1.6662616 , 1.2522508 ],\n",
       "        [2.4688802 , 1.730528  , 9.3772955 ],\n",
       "        [2.012919  , 1.1519091 , 0.25193465]], dtype=float32)]"
      ]
     },
     "execution_count": 9,
     "metadata": {},
     "output_type": "execute_result"
    }
   ],
   "source": [
    "system"
   ]
  },
  {
   "cell_type": "markdown",
   "metadata": {},
   "source": [
    "## 7. Calculate Q6"
   ]
  },
  {
   "cell_type": "code",
   "execution_count": 29,
   "metadata": {},
   "outputs": [],
   "source": [
    "L=6\n",
    "ql = freud.order.Steinhardt(L,wl=True)\n",
    "ql_calc = ql.compute(system, neighbors=nlist)\n",
    "\n",
    "# Remove nan values\n",
    "#ql_nonan = ql_calc.ql[~np.isnan(ql_calc.ql)]"
   ]
  },
  {
   "cell_type": "code",
   "execution_count": 32,
   "metadata": {},
   "outputs": [
    {
     "data": {
      "text/plain": [
       "\u001b[1;31mInit signature:\u001b[0m  \u001b[0mfreud\u001b[0m\u001b[1;33m.\u001b[0m\u001b[0morder\u001b[0m\u001b[1;33m.\u001b[0m\u001b[0mSteinhardt\u001b[0m\u001b[1;33m(\u001b[0m\u001b[0mself\u001b[0m\u001b[1;33m,\u001b[0m \u001b[1;33m/\u001b[0m\u001b[1;33m,\u001b[0m \u001b[1;33m*\u001b[0m\u001b[0margs\u001b[0m\u001b[1;33m,\u001b[0m \u001b[1;33m**\u001b[0m\u001b[0mkwargs\u001b[0m\u001b[1;33m)\u001b[0m\u001b[1;33m\u001b[0m\u001b[1;33m\u001b[0m\u001b[0m\n",
       "\u001b[1;31mDocstring:\u001b[0m      <no docstring>\n",
       "\u001b[1;31mFile:\u001b[0m           c:\\programdata\\anaconda3\\lib\\site-packages\\freud\\order.cp37-win_amd64.pyd\n",
       "\u001b[1;31mType:\u001b[0m           type\n",
       "\u001b[1;31mSubclasses:\u001b[0m     \n"
      ]
     },
     "metadata": {},
     "output_type": "display_data"
    }
   ],
   "source": [
    "? freud.order.Steinhardt"
   ]
  },
  {
   "cell_type": "code",
   "execution_count": 30,
   "metadata": {},
   "outputs": [
    {
     "data": {
      "text/plain": [
       "array([-0.00847488, -0.00046329, -0.00721052, ..., -0.00644202,\n",
       "       -0.00390487, -0.00272534], dtype=float32)"
      ]
     },
     "execution_count": 30,
     "metadata": {},
     "output_type": "execute_result"
    }
   ],
   "source": [
    "ql_calc.particle_order"
   ]
  },
  {
   "cell_type": "code",
   "execution_count": 31,
   "metadata": {},
   "outputs": [
    {
     "data": {
      "text/plain": [
       "array([0.40490454, 0.43404028, 0.5006246 , ..., 0.54726386, 0.55169815,\n",
       "       0.3630224 ], dtype=float32)"
      ]
     },
     "execution_count": 31,
     "metadata": {},
     "output_type": "execute_result"
    }
   ],
   "source": [
    "ql_calc.ql"
   ]
  },
  {
   "cell_type": "code",
   "execution_count": 314,
   "metadata": {},
   "outputs": [
    {
     "data": {
      "text/plain": [
       "array([0.5219497 , 0.61927897, 0.569363  , 0.6049225 , 0.438755  ,\n",
       "       0.67251843, 0.41827723, 0.5412601 , 0.61672467, 0.7434085 ,\n",
       "       0.55622584, 0.6237628 , 0.5716162 , 0.5198577 , 0.48747045,\n",
       "       0.48450896, 0.6659806 , 0.81606823, 0.5090423 , 0.5054983 ,\n",
       "       0.607464  , 0.5042969 , 0.7203739 , 0.6946058 , 0.55012846,\n",
       "       0.52193177, 0.650923  , 0.6775302 , 0.42079973, 0.602232  ,\n",
       "       0.51553386, 0.6131919 , 0.6240244 , 0.4903371 , 0.41499275,\n",
       "       0.50747186, 0.502792  , 0.47341317, 0.57099813, 0.64663386,\n",
       "       0.51604587, 0.50387204, 0.40660834, 0.5414179 , 0.6220946 ,\n",
       "       0.5418899 , 0.6495887 , 0.37187594, 0.71943086, 0.5404406 ,\n",
       "       0.4110766 , 0.57178396, 0.4997354 , 0.70617694, 0.49919245,\n",
       "       0.48818016, 0.7411104 , 0.5332245 , 0.5410372 , 0.59831417,\n",
       "       0.47652894, 0.5090048 , 0.87504923, 0.6460537 , 0.43419984,\n",
       "       0.67114854, 0.65943366, 0.58846146, 0.52600163, 0.48755807,\n",
       "       0.63614345, 0.71523243, 0.66740024, 0.8003497 , 0.5394606 ,\n",
       "       0.71437764, 0.56642103, 0.38896504, 0.61461014, 0.36611357,\n",
       "       0.49037996, 0.583092  , 0.4631486 , 0.41519603, 0.44726953,\n",
       "       0.57737607, 0.41783297, 0.60727304, 0.8139715 , 0.38264233,\n",
       "       0.52924335, 0.81507856, 0.53592974, 0.55508953, 0.8105775 ,\n",
       "       0.61926496, 0.481059  , 0.54651785, 0.5511948 , 0.3639153 ],\n",
       "      dtype=float32)"
      ]
     },
     "execution_count": 314,
     "metadata": {},
     "output_type": "execute_result"
    }
   ],
   "source": [
    "ql_nonan[-100:]"
   ]
  },
  {
   "cell_type": "code",
   "execution_count": 315,
   "metadata": {},
   "outputs": [
    {
     "data": {
      "image/png": "[encoded data removed]",
      "text/plain": [
       "<Figure size 432x288 with 1 Axes>"
      ]
     },
     "metadata": {
      "needs_background": "light"
     },
     "output_type": "display_data"
    }
   ],
   "source": [
    "#weights = np.ones_like(ql_nonan)/float(len(ql_nonan))\n",
    "bin_edges = np.r_[np.linspace(0, 1, num=30),np.linspace(0, 1, num=30)[1]+1]\n",
    "n,x,h = plt.hist(ql_nonan, density=False, bins=bin_edges)  # `density=False` would make counts\n",
    "#n,x = np.histogram(ql_nonan,bins=30)\n",
    "#bin_centers = 0.5*(x[1:]+x[:-1])\n",
    "#plt.plot(bin_centers,n)\n",
    "plt.ylabel('Probability')\n",
    "plt.xlabel('Q_{6}');"
   ]
  }
 ],
 "metadata": {
  "kernelspec": {
   "display_name": "Python 3",
   "language": "python",
   "name": "python3"
  },
  "language_info": {
   "codemirror_mode": {
    "name": "ipython",
    "version": 3
   },
   "file_extension": ".py",
   "mimetype": "text/x-python",
   "name": "python",
   "nbconvert_exporter": "python",
   "pygments_lexer": "ipython3",
   "version": "3.8.5"
  }
 },
 "nbformat": 4,
 "nbformat_minor": 4
}
